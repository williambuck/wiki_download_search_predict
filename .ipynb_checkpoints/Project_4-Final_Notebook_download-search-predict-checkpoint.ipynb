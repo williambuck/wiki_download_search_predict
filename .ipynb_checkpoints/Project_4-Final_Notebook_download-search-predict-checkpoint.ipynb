{
 "cells": [
  {
   "cell_type": "markdown",
   "metadata": {},
   "source": [
    "# Project 4: Wikipedia Semantic Search\n",
    "\n",
    "*Author: William Buck*\n",
    "\n",
    "### download.py, search.py, and predict.py\n",
    "\n",
    "The three .py files that are run in this notebook will do the following:\n",
    "1. Download all of the page text, pageids, and titles from pages from a certain category.\n",
    "    - This information is stored in a mongoDB set up on an AWS instance. The client connection is set in all three of the scripts as ```MongoClient('35.163.182.105', 27016)```\n",
    "    - The way I have organized the data in mongo: \n",
    "        - Each category that is downloaded has its own database in mongo. \n",
    "        - Each collection is a subcategory of the orginally downloaded category.\n",
    "        - Each document in a collection is a page that falls under the category in Wikipedia.\n",
    "1. Search for any word or phrase in the contents of the downloaded Wikipedia pages.\n",
    "    - When search.py is first run, it will merge all of the information in the mongo databases so that they can be searched.\n",
    "1. Predict the category of a page from the wikipdia page title.\n",
    "    - predict.py analyzes all of the page content related to a certain category, and when a page title is passed to the ```predict``` method, it uses the Wikipedia API to get all of the page text of the passed title, then predicts the category of the page based on that content.\n",
    "    - The downloaded data must be stored in a pandas DataFrame in order for categorical predictions to be made.\n",
    "\n"
   ]
  },
  {
   "cell_type": "code",
   "execution_count": 2,
   "metadata": {},
   "outputs": [],
   "source": [
    "%run download.py"
   ]
  },
  {
   "cell_type": "markdown",
   "metadata": {},
   "source": [
    "### Instantiating the store_wiki_contents_in_mongo object with the names of the databases I will create then update.\n",
    "\n",
    "The ```store_wiki_contents_in_mongo``` method sets the database name in mongoDB. The string that is passed as the name will have the spaces replaced with ```_``` and the phrase ```_wiki_db``` will be added to the end so that all of the wikipedia databases can be easily recognized."
   ]
  },
  {
   "cell_type": "code",
   "execution_count": 22,
   "metadata": {},
   "outputs": [],
   "source": [
    "busi_soft_mongo = store_wiki_contents_in_mongo('business software')\n",
    "mach_learn_mongo = store_wiki_contents_in_mongo('machine learning')\n",
    "wild_mongo = store_wiki_contents_in_mongo('wilderness')\n",
    "bicycles_mongo = store_wiki_contents_in_mongo('bicycles')\n",
    "evolutionary_phenom_mongo = store_wiki_contents_in_mongo('evolutionary phenomena')"
   ]
  },
  {
   "cell_type": "code",
   "execution_count": 3,
   "metadata": {
    "scrolled": true
   },
   "outputs": [
    {
     "data": {
      "text/plain": [
       "['admin',\n",
       " 'bicycles_wiki_db',\n",
       " 'business_software_wiki_db',\n",
       " 'business_software_wiki_db2',\n",
       " 'evolutionary_phenomena_wiki_db',\n",
       " 'local',\n",
       " 'machine_learning_wiki_db',\n",
       " 'machine_learning_wiki_db2',\n",
       " 'wilderness_wiki_db']"
      ]
     },
     "execution_count": 3,
     "metadata": {},
     "output_type": "execute_result"
    }
   ],
   "source": [
    "# see database names here\n",
    "client.database_names()"
   ]
  },
  {
   "cell_type": "markdown",
   "metadata": {},
   "source": [
    "### Getting all of the page contents for the 5 categories passed as parameters to the get_all_page_contents_from_category method.\n",
    "\n",
    "A nesting level must be set due to Wikipedia's infinite nesting structure. Default is ```0```, which means that no subcategories will be included unless specified. It is impossible to get all of the subcategories using a recursive function because often, there is a child category that includes its parent category as a subcategory, which creates a loop."
   ]
  },
  {
   "cell_type": "code",
   "execution_count": null,
   "metadata": {},
   "outputs": [],
   "source": [
    "# Category: Business Software\n",
    "# Search can take over an hour.\n",
    "busi_soft_mongo.get_all_page_contents_from_category('business software', nesting_level=3)"
   ]
  },
  {
   "cell_type": "code",
   "execution_count": null,
   "metadata": {},
   "outputs": [],
   "source": [
    "# Category: Machine Learning\n",
    "# nesting_level=3 is enough to get all pages from all subcategories.\n",
    "# Search usually takes 15 minutes.\n",
    "mach_learn_mongo.get_all_page_contents_from_category('machine learning', nesting_level=3)"
   ]
  },
  {
   "cell_type": "code",
   "execution_count": 10,
   "metadata": {
    "scrolled": false
   },
   "outputs": [
    {
     "name": "stdout",
     "output_type": "stream",
     "text": [
      "Finished updating \"wilderness_wiki_db\" with all page content from category \"wilderness\".\n",
      "\n",
      "There are 72 subcategories that need to be added to wilderness_wiki_db.\n",
      "\n",
      "71.70.69.68.67.66.65.64.63.62.61.60.59.58.57.56.55.54.53.52.51.50.49.48.47.46.45.44.43.42.41.40.39.38.37.36.35.34.33.32.31.30.29.28.27.26.25.24.23.22.21.20.19.18.17.16.15.14.13.12.11.10.9.8.7.6.5.4.3.2.1.0."
     ]
    }
   ],
   "source": [
    "# Category: Wilderness\n",
    "wild_mongo.get_all_page_contents_from_category('wilderness', nesting_level=5)"
   ]
  },
  {
   "cell_type": "code",
   "execution_count": 14,
   "metadata": {},
   "outputs": [
    {
     "name": "stdout",
     "output_type": "stream",
     "text": [
      "Finished updating \"bicycles_wiki_db\" with all page content from category \"bicycles\".\n",
      "\n",
      "There are 66 subcategories that need to be added to bicycles_wiki_db.\n",
      "\n",
      "65.64.63.62.61.60.59.58.57.56.55.54.53.52.51.50.49.48.47.46.45.44.43.42.41.40.39.38.37.36.35.34.33.32.31.30.29.28.27.26.25.24.23.22.21.20.19.18.17.16.15.14.13.12.11.10.9.8.7.6.5.4.3.2.1.0."
     ]
    }
   ],
   "source": [
    "# Category: Bicycles\n",
    "bicycles_mongo.get_all_page_contents_from_category('bicycles', nesting_level=4)"
   ]
  },
  {
   "cell_type": "code",
   "execution_count": 41,
   "metadata": {},
   "outputs": [
    {
     "name": "stdout",
     "output_type": "stream",
     "text": [
      "About to delete database \"evolutionary_phenomena_wiki_db\". \n",
      "Do you want to continue [y/n]? n\n"
     ]
    },
    {
     "data": {
      "text/plain": [
       "'Quitting without dropping database.'"
      ]
     },
     "execution_count": 41,
     "metadata": {},
     "output_type": "execute_result"
    }
   ],
   "source": [
    "# Category: Evolutionarily significant biological phenomena\n",
    "# Used this category because it has a large number of subcategories and I wanted to see how the nesting_level \n",
    "# scaled and affected performance\n",
    "\n",
    "# 7 nested levels deep was so large that it had not run in 4+ hours.\n",
    "# 5 nested levels deep is 3166 subcategories\n",
    "# 3 nested levels deep is 361 subcategories\n",
    "# 2 nested levels deep is 113 subcategories\n",
    "\n",
    "evolutionary_phenom_mongo.get_all_page_contents_from_category('evolutionarily significant biological phenomena', \\\n",
    "                                                               overwrite=True, \\\n",
    "                                                               nesting_level=2)"
   ]
  },
  {
   "cell_type": "markdown",
   "metadata": {},
   "source": [
    "## Searching all mongo databases related to wiki search\n",
    "\n",
    "When search.py is run, all of the content is prepared by combing all the collections in all databases into one repository for searching."
   ]
  },
  {
   "cell_type": "code",
   "execution_count": 6,
   "metadata": {},
   "outputs": [
    {
     "name": "stdout",
     "output_type": "stream",
     "text": [
      "Merging 5 mongo databases for Wikipedia search.\n",
      "\n",
      "67 Categories in bicycles_wiki_db.\n",
      "\n",
      "1.2.3.4.5.6.7.8.9.10.11.12.13.14.15.16.17.18.19.20.21.22.23.24.25.26.27.28.29.30.31.32.33.34.35.36.37.38.39.40.41.42.43.44.45.46.47.48.49.50.51.52.53.54.55.56.57.58.59.60.61.62.63.64.65.66.67.\n",
      "\n",
      "\n",
      "\n",
      "315 Categories in business_software_wiki_db.\n",
      "\n",
      "1.2.3.4.5.6.7.8.9.10.11.12.13.14.15.16.17.18.19.20.21.22.23.24.25.26.27.28.29.30.31.32.33.34.35.36.37.38.39.40.41.42.43.44.45.46.47.48.49.50.51.52.53.54.55.56.57.58.59.60.61.62.63.64.65.66.67.68.69.70.71.72.73.74.75.76.77.78.79.80.81.82.83.84.85.86.87.88.89.90.91.92.93.94.95.96.97.98.99.100.101.102.103.104.105.106.107.108.109.110.111.112.113.114.115.116.117.118.119.120.121.122.123.124.125.126.127.128.129.130.131.132.133.134.135.136.137.138.139.140.141.142.143.144.145.146.147.148.149.150.151.152.153.154.155.156.157.158.159.160.161.162.163.164.165.166.167.168.169.170.171.172.173.174.175.176.177.178.179.180.181.182.183.184.185.186.187.188.189.190.191.192.193.194.195.196.197.198.199.200.201.202.203.204.205.206.207.208.209.210.211.212.213.214.215.216.217.218.219.220.221.222.223.224.225.226.227.228.229.230.231.232.233.234.235.236.237.238.239.240.241.242.243.244.245.246.247.248.249.250.251.252.253.254.255.256.257.258.259.260.261.262.263.264.265.266.267.268.269.270.271.272.273.274.275.276.277.278.279.280.281.282.283.284.285.286.287.288.289.290.291.292.293.294.295.296.297.298.299.300.301.302.303.304.305.306.307.308.309.310.311.312.313.314.315.\n",
      "\n",
      "\n",
      "\n",
      "114 Categories in evolutionary_phenomena_wiki_db.\n",
      "\n",
      "1.2.3.4.5.6.7.8.9.10.11.12.13.14.15.16.17.18.19.20.21.22.23.24.25.26.27.28.29.30.31.32.33.34.35.36.37.38.39.40.41.42.43.44.45.46.47.48.49.50.51.52.53.54.55.56.57.58.59.60.61.62.63.64.65.66.67.68.69.70.71.72.73.74.75.76.77.78.79.80.81.82.83.84.85.86.87.88.89.90.91.92.93.94.95.96.97.98.99.100.101.102.103.104.105.106.107.108.109.110.111.112.113.114.\n",
      "\n",
      "\n",
      "\n",
      "49 Categories in machine_learning_wiki_db.\n",
      "\n",
      "1.2.3.4.5.6.7.8.9.10.11.12.13.14.15.16.17.18.19.20.21.22.23.24.25.26.27.28.29.30.31.32.33.34.35.36.37.38.39.40.41.42.43.44.45.46.47.48.49.\n",
      "\n",
      "\n",
      "\n",
      "73 Categories in wilderness_wiki_db.\n",
      "\n",
      "1.2.3.4.5.6.7.8.9.10.11.12.13.14.15.16.17.18.19.20.21.22.23.24.25.26.27.28.29.30.31.32.33.34.35.36.37.38.39.40.41.42.43.44.45.46.47.48.49.50.51.52.53.54.55.56.57.58.59.60.61.62.63.64.65.66.67.68.69.70.71.72.73.\n",
      "\n",
      "\n",
      "Done merging databases.\n"
     ]
    }
   ],
   "source": [
    "%run search.py"
   ]
  },
  {
   "cell_type": "markdown",
   "metadata": {},
   "source": [
    "#### Searching\n",
    "Running some random searches. I found that the results are pretty accurate when I search phrases from wikipedia pages."
   ]
  },
  {
   "cell_type": "code",
   "execution_count": 8,
   "metadata": {
    "scrolled": false
   },
   "outputs": [
    {
     "name": "stdout",
     "output_type": "stream",
     "text": [
      "CPU times: user 46.1 s, sys: 11.6 s, total: 57.7 s\n",
      "Wall time: 34.9 s\n"
     ]
    },
    {
     "data": {
      "text/html": [
       "<div>\n",
       "<table border=\"1\" class=\"dataframe\">\n",
       "  <thead>\n",
       "    <tr style=\"text-align: right;\">\n",
       "      <th></th>\n",
       "      <th>cosine_sim</th>\n",
       "    </tr>\n",
       "  </thead>\n",
       "  <tbody>\n",
       "    <tr>\n",
       "      <th>Toast, Inc.</th>\n",
       "      <td>0.189185</td>\n",
       "    </tr>\n",
       "    <tr>\n",
       "      <th>NeXTMail</th>\n",
       "      <td>0.098027</td>\n",
       "    </tr>\n",
       "    <tr>\n",
       "      <th>Excellence (software)</th>\n",
       "      <td>0.068203</td>\n",
       "    </tr>\n",
       "    <tr>\n",
       "      <th>Google Kythe</th>\n",
       "      <td>0.063162</td>\n",
       "    </tr>\n",
       "    <tr>\n",
       "      <th>PaperClip</th>\n",
       "      <td>0.057718</td>\n",
       "    </tr>\n",
       "  </tbody>\n",
       "</table>\n",
       "</div>"
      ],
      "text/plain": [
       "                       cosine_sim\n",
       "Toast, Inc.              0.189185\n",
       "NeXTMail                 0.098027\n",
       "Excellence (software)    0.068203\n",
       "Google Kythe             0.063162\n",
       "PaperClip                0.057718"
      ]
     },
     "execution_count": 8,
     "metadata": {},
     "output_type": "execute_result"
    }
   ],
   "source": [
    "# Steve Fredette was the founder of Toast, Inc.\n",
    "\n",
    "%time search('Steve Fredette')"
   ]
  },
  {
   "cell_type": "code",
   "execution_count": 32,
   "metadata": {},
   "outputs": [
    {
     "data": {
      "text/html": [
       "<div>\n",
       "<table border=\"1\" class=\"dataframe\">\n",
       "  <thead>\n",
       "    <tr style=\"text-align: right;\">\n",
       "      <th></th>\n",
       "      <th>cosine_sim</th>\n",
       "    </tr>\n",
       "  </thead>\n",
       "  <tbody>\n",
       "    <tr>\n",
       "      <th>Google Fiber</th>\n",
       "      <td>0.288891</td>\n",
       "    </tr>\n",
       "    <tr>\n",
       "      <th>The Bicycle Wheel</th>\n",
       "      <td>0.235388</td>\n",
       "    </tr>\n",
       "    <tr>\n",
       "      <th>Big wheel (tricycle)</th>\n",
       "      <td>0.202178</td>\n",
       "    </tr>\n",
       "    <tr>\n",
       "      <th>Copenhagen Wheel</th>\n",
       "      <td>0.186923</td>\n",
       "    </tr>\n",
       "    <tr>\n",
       "      <th>Carbon-based life</th>\n",
       "      <td>0.184708</td>\n",
       "    </tr>\n",
       "  </tbody>\n",
       "</table>\n",
       "</div>"
      ],
      "text/plain": [
       "                      cosine_sim\n",
       "Google Fiber            0.288891\n",
       "The Bicycle Wheel       0.235388\n",
       "Big wheel (tricycle)    0.202178\n",
       "Copenhagen Wheel        0.186923\n",
       "Carbon-based life       0.184708"
      ]
     },
     "execution_count": 32,
     "metadata": {},
     "output_type": "execute_result"
    }
   ],
   "source": [
    "# Added a bunch of random words related to bicycles to see how the search would react.\n",
    "\n",
    "search('singletrack mountain wheel carbon fiber')"
   ]
  },
  {
   "cell_type": "code",
   "execution_count": 33,
   "metadata": {},
   "outputs": [
    {
     "data": {
      "text/html": [
       "<div>\n",
       "<table border=\"1\" class=\"dataframe\">\n",
       "  <thead>\n",
       "    <tr style=\"text-align: right;\">\n",
       "      <th></th>\n",
       "      <th>cosine_sim</th>\n",
       "    </tr>\n",
       "  </thead>\n",
       "  <tbody>\n",
       "    <tr>\n",
       "      <th>Random neural network</th>\n",
       "      <td>0.353688</td>\n",
       "    </tr>\n",
       "    <tr>\n",
       "      <th>NeuroSolutions</th>\n",
       "      <td>0.328894</td>\n",
       "    </tr>\n",
       "    <tr>\n",
       "      <th>Neural network software</th>\n",
       "      <td>0.327341</td>\n",
       "    </tr>\n",
       "    <tr>\n",
       "      <th>Category:Neural network software</th>\n",
       "      <td>0.326809</td>\n",
       "    </tr>\n",
       "    <tr>\n",
       "      <th>Computational neurogenetic modeling</th>\n",
       "      <td>0.317748</td>\n",
       "    </tr>\n",
       "  </tbody>\n",
       "</table>\n",
       "</div>"
      ],
      "text/plain": [
       "                                     cosine_sim\n",
       "Random neural network                  0.353688\n",
       "NeuroSolutions                         0.328894\n",
       "Neural network software                0.327341\n",
       "Category:Neural network software       0.326809\n",
       "Computational neurogenetic modeling    0.317748"
      ]
     },
     "execution_count": 33,
     "metadata": {},
     "output_type": "execute_result"
    }
   ],
   "source": [
    "search('cell organism evolution nature neural network')"
   ]
  },
  {
   "cell_type": "markdown",
   "metadata": {},
   "source": [
    "### Instantiating the df_maker_merge_all_mongo_content to merge all contents from the mongo databases that are related to the wikipedia search, and then pickling the DataFrame\n",
    "\n",
    "The DataFrame is used for the predict.py script."
   ]
  },
  {
   "cell_type": "code",
   "execution_count": 12,
   "metadata": {},
   "outputs": [],
   "source": [
    "dmmamc = df_maker_merge_all_mongo_content()"
   ]
  },
  {
   "cell_type": "code",
   "execution_count": 13,
   "metadata": {
    "scrolled": true
   },
   "outputs": [
    {
     "data": {
      "text/plain": [
       "['bicycles_wiki_db',\n",
       " 'business_software_wiki_db',\n",
       " 'evolutionary_phenomena_wiki_db',\n",
       " 'machine_learning_wiki_db',\n",
       " 'wilderness_wiki_db']"
      ]
     },
     "execution_count": 13,
     "metadata": {},
     "output_type": "execute_result"
    }
   ],
   "source": [
    "# getting a list of the databases I want to merge\n",
    "wiki_db_list = [x for x in client.database_names() if x[-len('_wiki_db'):] == '_wiki_db']\n",
    "wiki_db_list"
   ]
  },
  {
   "cell_type": "code",
   "execution_count": 14,
   "metadata": {},
   "outputs": [],
   "source": [
    "# pickling the DataFrame of the merged databases\n",
    "final_df = dmmamc.merge_databases(wiki_db_list)\n",
    "pd.to_pickle(final_df, 'Data/merged_wiki_databases_df.p')"
   ]
  },
  {
   "cell_type": "code",
   "execution_count": 15,
   "metadata": {
    "scrolled": true
   },
   "outputs": [
    {
     "name": "stdout",
     "output_type": "stream",
     "text": [
      "<class 'pandas.core.frame.DataFrame'>\n",
      "RangeIndex: 19411 entries, 0 to 19410\n",
      "Data columns (total 5 columns):\n",
      "_id         19411 non-null object\n",
      "category    19411 non-null object\n",
      "content     19411 non-null object\n",
      "page_id     19411 non-null int64\n",
      "title       19411 non-null object\n",
      "dtypes: int64(1), object(4)\n",
      "memory usage: 758.3+ KB\n"
     ]
    }
   ],
   "source": [
    "final_df.info()"
   ]
  },
  {
   "cell_type": "markdown",
   "metadata": {},
   "source": [
    "### Predict category from page title\n",
    "\n",
    "The 5 items returned are the top 5 related categories to the page based on the content of the page."
   ]
  },
  {
   "cell_type": "code",
   "execution_count": 11,
   "metadata": {},
   "outputs": [],
   "source": [
    "%run predict.py"
   ]
  },
  {
   "cell_type": "code",
   "execution_count": 16,
   "metadata": {},
   "outputs": [
    {
     "name": "stdout",
     "output_type": "stream",
     "text": [
      "CPU times: user 40.1 s, sys: 11.8 s, total: 51.9 s\n",
      "Wall time: 31.4 s\n"
     ]
    },
    {
     "data": {
      "text/plain": [
       "['Deep learning',\n",
       " 'Artificial neural networks',\n",
       " 'Neural network software',\n",
       " 'Unsupervised learning',\n",
       " 'Data mining and machine learning software']"
      ]
     },
     "execution_count": 16,
     "metadata": {},
     "output_type": "execute_result"
    }
   ],
   "source": [
    "%time predict('machine learning')"
   ]
  },
  {
   "cell_type": "code",
   "execution_count": 17,
   "metadata": {},
   "outputs": [
    {
     "data": {
      "text/plain": [
       "['Eagles Nest Wilderness',\n",
       " 'Holy Cross Wilderness',\n",
       " 'Eagle Cap Wilderness',\n",
       " 'Wilderness Areas of Colorado',\n",
       " 'Wilderness Areas of Virginia']"
      ]
     },
     "execution_count": 17,
     "metadata": {},
     "output_type": "execute_result"
    }
   ],
   "source": [
    "predict('Gore Creek Trail')"
   ]
  },
  {
   "cell_type": "code",
   "execution_count": 18,
   "metadata": {},
   "outputs": [
    {
     "data": {
      "text/plain": [
       "['Symbiosis',\n",
       " 'Mutualism (biology)',\n",
       " 'Parasitism',\n",
       " 'Ecosystems',\n",
       " 'Superorganisms']"
      ]
     },
     "execution_count": 18,
     "metadata": {},
     "output_type": "execute_result"
    }
   ],
   "source": [
    "predict('symbiosis')"
   ]
  },
  {
   "cell_type": "code",
   "execution_count": null,
   "metadata": {},
   "outputs": [],
   "source": []
  }
 ],
 "metadata": {
  "kernelspec": {
   "display_name": "Python 3",
   "language": "python",
   "name": "python3"
  },
  "language_info": {
   "codemirror_mode": {
    "name": "ipython",
    "version": 3
   },
   "file_extension": ".py",
   "mimetype": "text/x-python",
   "name": "python",
   "nbconvert_exporter": "python",
   "pygments_lexer": "ipython3",
   "version": "3.6.2"
  }
 },
 "nbformat": 4,
 "nbformat_minor": 2
}
