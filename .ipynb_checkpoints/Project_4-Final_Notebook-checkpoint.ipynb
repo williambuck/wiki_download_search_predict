{
 "cells": [
  {
   "cell_type": "markdown",
   "metadata": {},
   "source": [
    "# Project 4: Wikipedia Semantic Search\n",
    "\n",
    "*Author: William Buck*\n",
    "\n",
    "### Summary of download.py, search.py, and predict.py files\n",
    "The three .py files that are run in this notebook will do the following:\n",
    "1. Download all of the page text, pageids, and titles from pages from a certain category.\n",
    "    - This information is stored in a mongoDB set up on an AWS instance. The client connection is set in all three of the scripts as ```MongoClient('35.163.182.105', 27016)```\n",
    "    - The way I have organized the data in mongo: \n",
    "        - Each category that is downloaded has its own collection in the mongo database. \n",
    "        - A collection is also made for every subcategory of the orginally downloaded category if nesting_level is specified.\n",
    "        - Each document in a collection is a page that falls under the category in Wikipedia.\n",
    "1. Search for any word or phrase in the contents of the downloaded Wikipedia pages.\n",
    "    - A DataFrame must be created in the Data folder of the downloaded information to search.\n",
    "1. Predict the category of a page from the wikipdia page title.\n",
    "    - predict.py analyzes all of the page content related to a certain category, and when a page title is searched, it uses the Wikipedia API to get all of the page text of the passed title, then predicts the category of the page based on that content.\n",
    "    - The downloaded data must be stored in a pandas DataFrame in order for categorical predictions to be made.\n",
    "\n",
    "**Note about TruncatedSVD:**\n",
    "<br>TruncatedSVD is included as an option before finding cosine similarity in both the predict.py and search.py scripts. It makes the results much slower, and it also is not always completely accurate. I think that this is becuase I'm not using an ```ngram_range``` in the TFIDF transformation. However, I believe that doing this would increase its accuracy, but it keeps causing the kernel of this notebook to crash because the DataFrame is too big.\n"
   ]
  },
  {
   "cell_type": "markdown",
   "metadata": {},
   "source": [
    "## Example of download.py "
   ]
  },
  {
   "cell_type": "markdown",
   "metadata": {},
   "source": [
    "### Getting all of the page contents for the categories specified once the download.py file is run.\n",
    "\n",
    "A nesting level must be set due to Wikipedia's infinite nesting structure. It is impossible to get all of the subcategories using a recursive function because often, there is a child category that includes its parent category as a subcategory, which creates a loop.\n",
    "\n",
    "**Overwrite will delete the database in mongo if it has been previously created.**\n",
    "\n",
    "After downloading, it will ask if you would like to merge and pickle all of the collections in the mongo database. This needs to be done if you want to search or predict on the downloaded categories later on."
   ]
  },
  {
   "cell_type": "code",
   "execution_count": 1,
   "metadata": {},
   "outputs": [
    {
     "name": "stdout",
     "output_type": "stream",
     "text": [
      "Database name: animals\n",
      "Category to download: Weasels\n",
      "Nesting level: 0\n",
      "Overwrite? [y/n] n\n",
      "\n",
      "Starting download of category \"Weasels\"\n",
      "Finished updating \"animals\" with all page content from category \"Weasels\".\n",
      "\n",
      "There were no subcategory pages included for \"Weasels\".\n",
      "\n",
      "Continue downloading? [y/n] y\n",
      "Category to download: bears\n",
      "Nesting level: 1\n",
      "\n",
      "Starting download of category \"bears\"\n",
      "Finished updating \"animals\" with all page content from category \"bears\".\n",
      "\n",
      "There are 29 subcategories that need to be added to animals.\n",
      "\n",
      "28.27.26.25.24.23.22.21.20.19.18.17.16.15.14.13.12.11.10.9.8.7.6.5.4.3.2.1.0.\n",
      "Continue downloading? [y/n] y\n",
      "Category to download: dolphins\n",
      "Nesting level: 0\n",
      "\n",
      "Starting download of category \"dolphins\"\n",
      "Finished updating \"animals\" with all page content from category \"dolphins\".\n",
      "\n",
      "There were no subcategory pages included for \"dolphins\".\n",
      "\n",
      "Continue downloading? [y/n] n\n",
      "Merge all downloads to DataFrame and pickle? [y/n] y\n",
      "Completed merge.\n"
     ]
    }
   ],
   "source": [
    "%run download.py"
   ]
  },
  {
   "cell_type": "code",
   "execution_count": 13,
   "metadata": {},
   "outputs": [
    {
     "data": {
      "text/html": [
       "<div>\n",
       "<table border=\"1\" class=\"dataframe\">\n",
       "  <thead>\n",
       "    <tr style=\"text-align: right;\">\n",
       "      <th></th>\n",
       "      <th>_id</th>\n",
       "      <th>category</th>\n",
       "      <th>content</th>\n",
       "      <th>page_id</th>\n",
       "      <th>title</th>\n",
       "    </tr>\n",
       "  </thead>\n",
       "  <tbody>\n",
       "    <tr>\n",
       "      <th>577</th>\n",
       "      <td>5a24ad2a830fdb056f227284</td>\n",
       "      <td>Polar bears</td>\n",
       "      <td>The Agreement on the Conservation of Polar Bea...</td>\n",
       "      <td>26621962</td>\n",
       "      <td>Agreement on the Conservation of Polar Bears</td>\n",
       "    </tr>\n",
       "    <tr>\n",
       "      <th>8</th>\n",
       "      <td>5a249ea8830fdb0514906ff3</td>\n",
       "      <td>extinct reptiles</td>\n",
       "      <td>Eastwoods longtailed seps or Eastwoods whip li...</td>\n",
       "      <td>12505208</td>\n",
       "      <td>Eastwood's long-tailed seps</td>\n",
       "    </tr>\n",
       "    <tr>\n",
       "      <th>1142</th>\n",
       "      <td>5a24ad06830fdb056f22724f</td>\n",
       "      <td>Individual giant pandas</td>\n",
       "      <td>Mei Sheng Chinese 美生 lit Beautiful Life or Bor...</td>\n",
       "      <td>12306593</td>\n",
       "      <td>Mei Sheng</td>\n",
       "    </tr>\n",
       "    <tr>\n",
       "      <th>42</th>\n",
       "      <td>5a24ab57830fdb056f226ffd</td>\n",
       "      <td>Weasels</td>\n",
       "      <td>The Amazon weasel Mustela africana also known ...</td>\n",
       "      <td>2431523</td>\n",
       "      <td>Amazon weasel</td>\n",
       "    </tr>\n",
       "    <tr>\n",
       "      <th>303</th>\n",
       "      <td>5a24ac40830fdb056f22712e</td>\n",
       "      <td>Fictional bears</td>\n",
       "      <td></td>\n",
       "      <td>54238684</td>\n",
       "      <td>Fluffy and Uranus</td>\n",
       "    </tr>\n",
       "    <tr>\n",
       "      <th>418</th>\n",
       "      <td>5a24a354830fdb051490714c</td>\n",
       "      <td>snakes</td>\n",
       "      <td>A snake farm is a facility that houses and bre...</td>\n",
       "      <td>6487602</td>\n",
       "      <td>Snake farm</td>\n",
       "    </tr>\n",
       "    <tr>\n",
       "      <th>334</th>\n",
       "      <td>5a24ac54830fdb056f22714d</td>\n",
       "      <td>Fictional bears</td>\n",
       "      <td>Paw Paws also known as Paw Paw Bears is an Ame...</td>\n",
       "      <td>4104102</td>\n",
       "      <td>Paw Paws</td>\n",
       "    </tr>\n",
       "    <tr>\n",
       "      <th>524</th>\n",
       "      <td>5a24ac70830fdb056f227178</td>\n",
       "      <td>Fictional pandas</td>\n",
       "      <td>Hello Panda is a brand of Japanese biscuit man...</td>\n",
       "      <td>7372998</td>\n",
       "      <td>Hello Panda</td>\n",
       "    </tr>\n",
       "    <tr>\n",
       "      <th>1004</th>\n",
       "      <td>5a24a010830fdb0514907042</td>\n",
       "      <td>birds</td>\n",
       "      <td>A fecal sac also spelled faecal sac is a mucou...</td>\n",
       "      <td>9986783</td>\n",
       "      <td>Fecal sac</td>\n",
       "    </tr>\n",
       "    <tr>\n",
       "      <th>1236</th>\n",
       "      <td>5a24ac9c830fdb056f2271b5</td>\n",
       "      <td>Films about bears</td>\n",
       "      <td>Care Bears Movie II A New Generation is a 1986...</td>\n",
       "      <td>1569551</td>\n",
       "      <td>Care Bears Movie II: A New Generation</td>\n",
       "    </tr>\n",
       "  </tbody>\n",
       "</table>\n",
       "</div>"
      ],
      "text/plain": [
       "                           _id                 category  \\\n",
       "577   5a24ad2a830fdb056f227284              Polar bears   \n",
       "8     5a249ea8830fdb0514906ff3         extinct reptiles   \n",
       "1142  5a24ad06830fdb056f22724f  Individual giant pandas   \n",
       "42    5a24ab57830fdb056f226ffd                  Weasels   \n",
       "303   5a24ac40830fdb056f22712e          Fictional bears   \n",
       "418   5a24a354830fdb051490714c                   snakes   \n",
       "334   5a24ac54830fdb056f22714d          Fictional bears   \n",
       "524   5a24ac70830fdb056f227178         Fictional pandas   \n",
       "1004  5a24a010830fdb0514907042                    birds   \n",
       "1236  5a24ac9c830fdb056f2271b5        Films about bears   \n",
       "\n",
       "                                                content   page_id  \\\n",
       "577   The Agreement on the Conservation of Polar Bea...  26621962   \n",
       "8     Eastwoods longtailed seps or Eastwoods whip li...  12505208   \n",
       "1142  Mei Sheng Chinese 美生 lit Beautiful Life or Bor...  12306593   \n",
       "42    The Amazon weasel Mustela africana also known ...   2431523   \n",
       "303                                                      54238684   \n",
       "418   A snake farm is a facility that houses and bre...   6487602   \n",
       "334   Paw Paws also known as Paw Paw Bears is an Ame...   4104102   \n",
       "524   Hello Panda is a brand of Japanese biscuit man...   7372998   \n",
       "1004  A fecal sac also spelled faecal sac is a mucou...   9986783   \n",
       "1236  Care Bears Movie II A New Generation is a 1986...   1569551   \n",
       "\n",
       "                                             title  \n",
       "577   Agreement on the Conservation of Polar Bears  \n",
       "8                      Eastwood's long-tailed seps  \n",
       "1142                                     Mei Sheng  \n",
       "42                                   Amazon weasel  \n",
       "303                              Fluffy and Uranus  \n",
       "418                                     Snake farm  \n",
       "334                                       Paw Paws  \n",
       "524                                    Hello Panda  \n",
       "1004                                     Fecal sac  \n",
       "1236         Care Bears Movie II: A New Generation  "
      ]
     },
     "execution_count": 13,
     "metadata": {},
     "output_type": "execute_result"
    }
   ],
   "source": [
    "animals_df = pd.read_pickle('Data/animals_download_merged_df.p')\n",
    "animals_df.sample(10)"
   ]
  },
  {
   "cell_type": "markdown",
   "metadata": {},
   "source": [
    "## Example of search.py\n",
    "\n",
    "I have included several searches for random phrases, or phrases copied from one of the downloaded Wikipedia articles stored in mongoDB. I have included the same search with both TruncatedSVD and without so that you can see the difference."
   ]
  },
  {
   "cell_type": "code",
   "execution_count": 4,
   "metadata": {
    "scrolled": false
   },
   "outputs": [
    {
     "name": "stdout",
     "output_type": "stream",
     "text": [
      "Pickle file to search: merged_wiki_databases_df.p\n",
      "Use TruncatedSVD with search? [y/n] y\n",
      "Search: steve fredette\n"
     ]
    },
    {
     "data": {
      "text/html": [
       "<div>\n",
       "<table border=\"1\" class=\"dataframe\">\n",
       "  <thead>\n",
       "    <tr style=\"text-align: right;\">\n",
       "      <th></th>\n",
       "      <th>cosine_sim</th>\n",
       "    </tr>\n",
       "    <tr>\n",
       "      <th>title</th>\n",
       "      <th></th>\n",
       "    </tr>\n",
       "  </thead>\n",
       "  <tbody>\n",
       "    <tr>\n",
       "      <th>T/Maker</th>\n",
       "      <td>0.558983</td>\n",
       "    </tr>\n",
       "    <tr>\n",
       "      <th>Sapphire (comics)</th>\n",
       "      <td>0.539630</td>\n",
       "    </tr>\n",
       "    <tr>\n",
       "      <th>Josiah Power</th>\n",
       "      <td>0.530929</td>\n",
       "    </tr>\n",
       "    <tr>\n",
       "      <th>ConveyIQ</th>\n",
       "      <td>0.530686</td>\n",
       "    </tr>\n",
       "    <tr>\n",
       "      <th>Holborn 9100</th>\n",
       "      <td>0.525728</td>\n",
       "    </tr>\n",
       "  </tbody>\n",
       "</table>\n",
       "</div>"
      ],
      "text/plain": [
       "                   cosine_sim\n",
       "title                        \n",
       "T/Maker              0.558983\n",
       "Sapphire (comics)    0.539630\n",
       "Josiah Power         0.530929\n",
       "ConveyIQ             0.530686\n",
       "Holborn 9100         0.525728"
      ]
     },
     "metadata": {},
     "output_type": "display_data"
    },
    {
     "name": "stdout",
     "output_type": "stream",
     "text": [
      "Make another search? [y/n] y\n",
      "Use TruncatedSVD with search? [y/n] n\n",
      "Search: steve fredette\n"
     ]
    },
    {
     "data": {
      "text/html": [
       "<div>\n",
       "<table border=\"1\" class=\"dataframe\">\n",
       "  <thead>\n",
       "    <tr style=\"text-align: right;\">\n",
       "      <th></th>\n",
       "      <th>cosine_sim</th>\n",
       "    </tr>\n",
       "    <tr>\n",
       "      <th>title</th>\n",
       "      <th></th>\n",
       "    </tr>\n",
       "  </thead>\n",
       "  <tbody>\n",
       "    <tr>\n",
       "      <th>Toast, Inc.</th>\n",
       "      <td>0.189185</td>\n",
       "    </tr>\n",
       "    <tr>\n",
       "      <th>NeXTMail</th>\n",
       "      <td>0.098005</td>\n",
       "    </tr>\n",
       "    <tr>\n",
       "      <th>Excellence (software)</th>\n",
       "      <td>0.068193</td>\n",
       "    </tr>\n",
       "    <tr>\n",
       "      <th>Google Kythe</th>\n",
       "      <td>0.063147</td>\n",
       "    </tr>\n",
       "    <tr>\n",
       "      <th>PaperClip</th>\n",
       "      <td>0.057697</td>\n",
       "    </tr>\n",
       "  </tbody>\n",
       "</table>\n",
       "</div>"
      ],
      "text/plain": [
       "                       cosine_sim\n",
       "title                            \n",
       "Toast, Inc.              0.189185\n",
       "NeXTMail                 0.098005\n",
       "Excellence (software)    0.068193\n",
       "Google Kythe             0.063147\n",
       "PaperClip                0.057697"
      ]
     },
     "metadata": {},
     "output_type": "display_data"
    },
    {
     "name": "stdout",
     "output_type": "stream",
     "text": [
      "Make another search? [y/n] y\n",
      "Use TruncatedSVD with search? [y/n] y\n",
      "Search: singletrack mountain wheel carbon fiber\n"
     ]
    },
    {
     "data": {
      "text/html": [
       "<div>\n",
       "<table border=\"1\" class=\"dataframe\">\n",
       "  <thead>\n",
       "    <tr style=\"text-align: right;\">\n",
       "      <th></th>\n",
       "      <th>cosine_sim</th>\n",
       "    </tr>\n",
       "    <tr>\n",
       "      <th>title</th>\n",
       "      <th></th>\n",
       "    </tr>\n",
       "  </thead>\n",
       "  <tbody>\n",
       "    <tr>\n",
       "      <th>Mountain unicycling</th>\n",
       "      <td>0.887459</td>\n",
       "    </tr>\n",
       "    <tr>\n",
       "      <th>Shimano Deore XT</th>\n",
       "      <td>0.708652</td>\n",
       "    </tr>\n",
       "    <tr>\n",
       "      <th>27.5 Mountain bike</th>\n",
       "      <td>0.694643</td>\n",
       "    </tr>\n",
       "    <tr>\n",
       "      <th>Bald Mountain (New York)</th>\n",
       "      <td>0.693972</td>\n",
       "    </tr>\n",
       "    <tr>\n",
       "      <th>Speedplay (bicycle pedal)</th>\n",
       "      <td>0.693267</td>\n",
       "    </tr>\n",
       "  </tbody>\n",
       "</table>\n",
       "</div>"
      ],
      "text/plain": [
       "                           cosine_sim\n",
       "title                                \n",
       "Mountain unicycling          0.887459\n",
       "Shimano Deore XT             0.708652\n",
       "27.5 Mountain bike           0.694643\n",
       "Bald Mountain (New York)     0.693972\n",
       "Speedplay (bicycle pedal)    0.693267"
      ]
     },
     "metadata": {},
     "output_type": "display_data"
    },
    {
     "name": "stdout",
     "output_type": "stream",
     "text": [
      "Make another search? [y/n] y\n",
      "Use TruncatedSVD with search? [y/n] n\n",
      "Search: singletrack mountain wheel carbon fiber\n"
     ]
    },
    {
     "data": {
      "text/html": [
       "<div>\n",
       "<table border=\"1\" class=\"dataframe\">\n",
       "  <thead>\n",
       "    <tr style=\"text-align: right;\">\n",
       "      <th></th>\n",
       "      <th>cosine_sim</th>\n",
       "    </tr>\n",
       "    <tr>\n",
       "      <th>title</th>\n",
       "      <th></th>\n",
       "    </tr>\n",
       "  </thead>\n",
       "  <tbody>\n",
       "    <tr>\n",
       "      <th>Google Fiber</th>\n",
       "      <td>0.288867</td>\n",
       "    </tr>\n",
       "    <tr>\n",
       "      <th>The Bicycle Wheel</th>\n",
       "      <td>0.235324</td>\n",
       "    </tr>\n",
       "    <tr>\n",
       "      <th>Big wheel (tricycle)</th>\n",
       "      <td>0.202103</td>\n",
       "    </tr>\n",
       "    <tr>\n",
       "      <th>Copenhagen Wheel</th>\n",
       "      <td>0.186872</td>\n",
       "    </tr>\n",
       "    <tr>\n",
       "      <th>Carbon-based life</th>\n",
       "      <td>0.184655</td>\n",
       "    </tr>\n",
       "  </tbody>\n",
       "</table>\n",
       "</div>"
      ],
      "text/plain": [
       "                      cosine_sim\n",
       "title                           \n",
       "Google Fiber            0.288867\n",
       "The Bicycle Wheel       0.235324\n",
       "Big wheel (tricycle)    0.202103\n",
       "Copenhagen Wheel        0.186872\n",
       "Carbon-based life       0.184655"
      ]
     },
     "metadata": {},
     "output_type": "display_data"
    },
    {
     "name": "stdout",
     "output_type": "stream",
     "text": [
      "Make another search? [y/n] y\n",
      "Use TruncatedSVD with search? [y/n] y\n",
      "Search: cell organism evolution nature neural network\n"
     ]
    },
    {
     "data": {
      "text/html": [
       "<div>\n",
       "<table border=\"1\" class=\"dataframe\">\n",
       "  <thead>\n",
       "    <tr style=\"text-align: right;\">\n",
       "      <th></th>\n",
       "      <th>cosine_sim</th>\n",
       "    </tr>\n",
       "    <tr>\n",
       "      <th>title</th>\n",
       "      <th></th>\n",
       "    </tr>\n",
       "  </thead>\n",
       "  <tbody>\n",
       "    <tr>\n",
       "      <th>Computational neurogenetic modeling</th>\n",
       "      <td>0.930071</td>\n",
       "    </tr>\n",
       "    <tr>\n",
       "      <th>Modular neural network</th>\n",
       "      <td>0.921160</td>\n",
       "    </tr>\n",
       "    <tr>\n",
       "      <th>Physical neural network</th>\n",
       "      <td>0.918240</td>\n",
       "    </tr>\n",
       "    <tr>\n",
       "      <th>Random neural network</th>\n",
       "      <td>0.916869</td>\n",
       "    </tr>\n",
       "    <tr>\n",
       "      <th>Bcpnn</th>\n",
       "      <td>0.913555</td>\n",
       "    </tr>\n",
       "  </tbody>\n",
       "</table>\n",
       "</div>"
      ],
      "text/plain": [
       "                                     cosine_sim\n",
       "title                                          \n",
       "Computational neurogenetic modeling    0.930071\n",
       "Modular neural network                 0.921160\n",
       "Physical neural network                0.918240\n",
       "Random neural network                  0.916869\n",
       "Bcpnn                                  0.913555"
      ]
     },
     "metadata": {},
     "output_type": "display_data"
    },
    {
     "name": "stdout",
     "output_type": "stream",
     "text": [
      "Make another search? [y/n] y\n",
      "Use TruncatedSVD with search? [y/n] n\n",
      "Search: cell organism evolution nature neural network\n"
     ]
    },
    {
     "data": {
      "text/html": [
       "<div>\n",
       "<table border=\"1\" class=\"dataframe\">\n",
       "  <thead>\n",
       "    <tr style=\"text-align: right;\">\n",
       "      <th></th>\n",
       "      <th>cosine_sim</th>\n",
       "    </tr>\n",
       "    <tr>\n",
       "      <th>title</th>\n",
       "      <th></th>\n",
       "    </tr>\n",
       "  </thead>\n",
       "  <tbody>\n",
       "    <tr>\n",
       "      <th>Random neural network</th>\n",
       "      <td>0.353669</td>\n",
       "    </tr>\n",
       "    <tr>\n",
       "      <th>NeuroSolutions</th>\n",
       "      <td>0.328901</td>\n",
       "    </tr>\n",
       "    <tr>\n",
       "      <th>Neural network software</th>\n",
       "      <td>0.327340</td>\n",
       "    </tr>\n",
       "    <tr>\n",
       "      <th>Category:Neural network software</th>\n",
       "      <td>0.326828</td>\n",
       "    </tr>\n",
       "    <tr>\n",
       "      <th>Computational neurogenetic modeling</th>\n",
       "      <td>0.317758</td>\n",
       "    </tr>\n",
       "  </tbody>\n",
       "</table>\n",
       "</div>"
      ],
      "text/plain": [
       "                                     cosine_sim\n",
       "title                                          \n",
       "Random neural network                  0.353669\n",
       "NeuroSolutions                         0.328901\n",
       "Neural network software                0.327340\n",
       "Category:Neural network software       0.326828\n",
       "Computational neurogenetic modeling    0.317758"
      ]
     },
     "metadata": {},
     "output_type": "display_data"
    },
    {
     "name": "stdout",
     "output_type": "stream",
     "text": [
      "Make another search? [y/n] y\n",
      "Use TruncatedSVD with search? [y/n] y\n",
      "Search: surly bikes\n"
     ]
    },
    {
     "data": {
      "text/html": [
       "<div>\n",
       "<table border=\"1\" class=\"dataframe\">\n",
       "  <thead>\n",
       "    <tr style=\"text-align: right;\">\n",
       "      <th></th>\n",
       "      <th>cosine_sim</th>\n",
       "    </tr>\n",
       "    <tr>\n",
       "      <th>title</th>\n",
       "      <th></th>\n",
       "    </tr>\n",
       "  </thead>\n",
       "  <tbody>\n",
       "    <tr>\n",
       "      <th>Polygon Bikes</th>\n",
       "      <td>0.971181</td>\n",
       "    </tr>\n",
       "    <tr>\n",
       "      <th>Tommaso bikes</th>\n",
       "      <td>0.956306</td>\n",
       "    </tr>\n",
       "    <tr>\n",
       "      <th>Novara (company)</th>\n",
       "      <td>0.955968</td>\n",
       "    </tr>\n",
       "    <tr>\n",
       "      <th>Kent International</th>\n",
       "      <td>0.952718</td>\n",
       "    </tr>\n",
       "    <tr>\n",
       "      <th>Ridley Bikes</th>\n",
       "      <td>0.936826</td>\n",
       "    </tr>\n",
       "  </tbody>\n",
       "</table>\n",
       "</div>"
      ],
      "text/plain": [
       "                    cosine_sim\n",
       "title                         \n",
       "Polygon Bikes         0.971181\n",
       "Tommaso bikes         0.956306\n",
       "Novara (company)      0.955968\n",
       "Kent International    0.952718\n",
       "Ridley Bikes          0.936826"
      ]
     },
     "metadata": {},
     "output_type": "display_data"
    },
    {
     "name": "stdout",
     "output_type": "stream",
     "text": [
      "Make another search? [y/n] n\n"
     ]
    }
   ],
   "source": [
    "%run search.py"
   ]
  },
  {
   "cell_type": "code",
   "execution_count": 9,
   "metadata": {
    "scrolled": false
   },
   "outputs": [
    {
     "name": "stdout",
     "output_type": "stream",
     "text": [
      "Pickle file to search: animals_download_merged_df.p\n",
      "Use TruncatedSVD with search? [y/n] y\n",
      "Search: polar bear\n"
     ]
    },
    {
     "data": {
      "text/html": [
       "<div>\n",
       "<table border=\"1\" class=\"dataframe\">\n",
       "  <thead>\n",
       "    <tr style=\"text-align: right;\">\n",
       "      <th></th>\n",
       "      <th>cosine_sim</th>\n",
       "    </tr>\n",
       "    <tr>\n",
       "      <th>title</th>\n",
       "      <th></th>\n",
       "    </tr>\n",
       "  </thead>\n",
       "  <tbody>\n",
       "    <tr>\n",
       "      <th>The Polar Bear Family &amp; Me</th>\n",
       "      <td>0.917822</td>\n",
       "    </tr>\n",
       "    <tr>\n",
       "      <th>International Polar Bear Day</th>\n",
       "      <td>0.906216</td>\n",
       "    </tr>\n",
       "    <tr>\n",
       "      <th>Agreement on the Conservation of Polar Bears</th>\n",
       "      <td>0.867391</td>\n",
       "    </tr>\n",
       "    <tr>\n",
       "      <th>Ursus maritimus tyrannus</th>\n",
       "      <td>0.850274</td>\n",
       "    </tr>\n",
       "    <tr>\n",
       "      <th>Polar bear</th>\n",
       "      <td>0.844850</td>\n",
       "    </tr>\n",
       "  </tbody>\n",
       "</table>\n",
       "</div>"
      ],
      "text/plain": [
       "                                              cosine_sim\n",
       "title                                                   \n",
       "The Polar Bear Family & Me                      0.917822\n",
       "International Polar Bear Day                    0.906216\n",
       "Agreement on the Conservation of Polar Bears    0.867391\n",
       "Ursus maritimus tyrannus                        0.850274\n",
       "Polar bear                                      0.844850"
      ]
     },
     "metadata": {},
     "output_type": "display_data"
    },
    {
     "name": "stdout",
     "output_type": "stream",
     "text": [
      "Make another search? [y/n] y\n",
      "Use TruncatedSVD with search? [y/n] n\n",
      "Search: polar bear\n"
     ]
    },
    {
     "data": {
      "text/html": [
       "<div>\n",
       "<table border=\"1\" class=\"dataframe\">\n",
       "  <thead>\n",
       "    <tr style=\"text-align: right;\">\n",
       "      <th></th>\n",
       "      <th>cosine_sim</th>\n",
       "    </tr>\n",
       "    <tr>\n",
       "      <th>title</th>\n",
       "      <th></th>\n",
       "    </tr>\n",
       "  </thead>\n",
       "  <tbody>\n",
       "    <tr>\n",
       "      <th>Polar bear</th>\n",
       "      <td>0.758262</td>\n",
       "    </tr>\n",
       "    <tr>\n",
       "      <th>Agreement on the Conservation of Polar Bears</th>\n",
       "      <td>0.648881</td>\n",
       "    </tr>\n",
       "    <tr>\n",
       "      <th>Grizzly–polar bear hybrid</th>\n",
       "      <td>0.584722</td>\n",
       "    </tr>\n",
       "    <tr>\n",
       "      <th>The Polar Bear Family &amp; Me</th>\n",
       "      <td>0.584233</td>\n",
       "    </tr>\n",
       "    <tr>\n",
       "      <th>International Polar Bear Day</th>\n",
       "      <td>0.513278</td>\n",
       "    </tr>\n",
       "  </tbody>\n",
       "</table>\n",
       "</div>"
      ],
      "text/plain": [
       "                                              cosine_sim\n",
       "title                                                   \n",
       "Polar bear                                      0.758262\n",
       "Agreement on the Conservation of Polar Bears    0.648881\n",
       "Grizzly–polar bear hybrid                       0.584722\n",
       "The Polar Bear Family & Me                      0.584233\n",
       "International Polar Bear Day                    0.513278"
      ]
     },
     "metadata": {},
     "output_type": "display_data"
    },
    {
     "name": "stdout",
     "output_type": "stream",
     "text": [
      "Make another search? [y/n] y\n",
      "Use TruncatedSVD with search? [y/n] y\n",
      "Search: rattlesnake\n"
     ]
    },
    {
     "data": {
      "text/html": [
       "<div>\n",
       "<table border=\"1\" class=\"dataframe\">\n",
       "  <thead>\n",
       "    <tr style=\"text-align: right;\">\n",
       "      <th></th>\n",
       "      <th>cosine_sim</th>\n",
       "    </tr>\n",
       "    <tr>\n",
       "      <th>title</th>\n",
       "      <th></th>\n",
       "    </tr>\n",
       "  </thead>\n",
       "  <tbody>\n",
       "    <tr>\n",
       "      <th>American International Rattlesnake Museum</th>\n",
       "      <td>0.752788</td>\n",
       "    </tr>\n",
       "    <tr>\n",
       "      <th>Rattlesnake round-up</th>\n",
       "      <td>0.698238</td>\n",
       "    </tr>\n",
       "    <tr>\n",
       "      <th>Lebanese Marine and Wildlife Museum</th>\n",
       "      <td>0.486290</td>\n",
       "    </tr>\n",
       "    <tr>\n",
       "      <th>Snake handling</th>\n",
       "      <td>0.449317</td>\n",
       "    </tr>\n",
       "    <tr>\n",
       "      <th>Louis Paul Jonas</th>\n",
       "      <td>0.448340</td>\n",
       "    </tr>\n",
       "  </tbody>\n",
       "</table>\n",
       "</div>"
      ],
      "text/plain": [
       "                                           cosine_sim\n",
       "title                                                \n",
       "American International Rattlesnake Museum    0.752788\n",
       "Rattlesnake round-up                         0.698238\n",
       "Lebanese Marine and Wildlife Museum          0.486290\n",
       "Snake handling                               0.449317\n",
       "Louis Paul Jonas                             0.448340"
      ]
     },
     "metadata": {},
     "output_type": "display_data"
    },
    {
     "name": "stdout",
     "output_type": "stream",
     "text": [
      "Make another search? [y/n] y\n",
      "Use TruncatedSVD with search? [y/n] n\n",
      "Search: rattlesnake\n"
     ]
    },
    {
     "data": {
      "text/html": [
       "<div>\n",
       "<table border=\"1\" class=\"dataframe\">\n",
       "  <thead>\n",
       "    <tr style=\"text-align: right;\">\n",
       "      <th></th>\n",
       "      <th>cosine_sim</th>\n",
       "    </tr>\n",
       "    <tr>\n",
       "      <th>title</th>\n",
       "      <th></th>\n",
       "    </tr>\n",
       "  </thead>\n",
       "  <tbody>\n",
       "    <tr>\n",
       "      <th>Rattlesnake round-up</th>\n",
       "      <td>0.437471</td>\n",
       "    </tr>\n",
       "    <tr>\n",
       "      <th>American International Rattlesnake Museum</th>\n",
       "      <td>0.227917</td>\n",
       "    </tr>\n",
       "    <tr>\n",
       "      <th>Snake handling</th>\n",
       "      <td>0.204389</td>\n",
       "    </tr>\n",
       "    <tr>\n",
       "      <th>Snake worship</th>\n",
       "      <td>0.025831</td>\n",
       "    </tr>\n",
       "    <tr>\n",
       "      <th>Serpent (symbolism)</th>\n",
       "      <td>0.024784</td>\n",
       "    </tr>\n",
       "  </tbody>\n",
       "</table>\n",
       "</div>"
      ],
      "text/plain": [
       "                                           cosine_sim\n",
       "title                                                \n",
       "Rattlesnake round-up                         0.437471\n",
       "American International Rattlesnake Museum    0.227917\n",
       "Snake handling                               0.204389\n",
       "Snake worship                                0.025831\n",
       "Serpent (symbolism)                          0.024784"
      ]
     },
     "metadata": {},
     "output_type": "display_data"
    },
    {
     "name": "stdout",
     "output_type": "stream",
     "text": [
      "Make another search? [y/n] y\n",
      "Use TruncatedSVD with search? [y/n] y\n",
      "Search: bipedal\n"
     ]
    },
    {
     "data": {
      "text/html": [
       "<div>\n",
       "<table border=\"1\" class=\"dataframe\">\n",
       "  <thead>\n",
       "    <tr style=\"text-align: right;\">\n",
       "      <th></th>\n",
       "      <th>cosine_sim</th>\n",
       "    </tr>\n",
       "    <tr>\n",
       "      <th>title</th>\n",
       "      <th></th>\n",
       "    </tr>\n",
       "  </thead>\n",
       "  <tbody>\n",
       "    <tr>\n",
       "      <th>User:Zach.ross/sandbox</th>\n",
       "      <td>0.791535</td>\n",
       "    </tr>\n",
       "    <tr>\n",
       "      <th>Rectilinear locomotion</th>\n",
       "      <td>0.791477</td>\n",
       "    </tr>\n",
       "    <tr>\n",
       "      <th>Robopanda</th>\n",
       "      <td>0.592816</td>\n",
       "    </tr>\n",
       "    <tr>\n",
       "      <th>Pongidae</th>\n",
       "      <td>0.511067</td>\n",
       "    </tr>\n",
       "    <tr>\n",
       "      <th>Koolakamba</th>\n",
       "      <td>0.345911</td>\n",
       "    </tr>\n",
       "  </tbody>\n",
       "</table>\n",
       "</div>"
      ],
      "text/plain": [
       "                        cosine_sim\n",
       "title                             \n",
       "User:Zach.ross/sandbox    0.791535\n",
       "Rectilinear locomotion    0.791477\n",
       "Robopanda                 0.592816\n",
       "Pongidae                  0.511067\n",
       "Koolakamba                0.345911"
      ]
     },
     "metadata": {},
     "output_type": "display_data"
    },
    {
     "name": "stdout",
     "output_type": "stream",
     "text": [
      "Make another search? [y/n] y\n",
      "Use TruncatedSVD with search? [y/n] n\n",
      "Search: bipedal\n"
     ]
    },
    {
     "data": {
      "text/html": [
       "<div>\n",
       "<table border=\"1\" class=\"dataframe\">\n",
       "  <thead>\n",
       "    <tr style=\"text-align: right;\">\n",
       "      <th></th>\n",
       "      <th>cosine_sim</th>\n",
       "    </tr>\n",
       "    <tr>\n",
       "      <th>title</th>\n",
       "      <th></th>\n",
       "    </tr>\n",
       "  </thead>\n",
       "  <tbody>\n",
       "    <tr>\n",
       "      <th>Pedals (bear)</th>\n",
       "      <td>0.081411</td>\n",
       "    </tr>\n",
       "    <tr>\n",
       "      <th>Dinosaur</th>\n",
       "      <td>0.050424</td>\n",
       "    </tr>\n",
       "    <tr>\n",
       "      <th>Koolakamba</th>\n",
       "      <td>0.042471</td>\n",
       "    </tr>\n",
       "    <tr>\n",
       "      <th>Rectilinear locomotion</th>\n",
       "      <td>0.042052</td>\n",
       "    </tr>\n",
       "    <tr>\n",
       "      <th>User:Zach.ross/sandbox</th>\n",
       "      <td>0.041963</td>\n",
       "    </tr>\n",
       "  </tbody>\n",
       "</table>\n",
       "</div>"
      ],
      "text/plain": [
       "                        cosine_sim\n",
       "title                             \n",
       "Pedals (bear)             0.081411\n",
       "Dinosaur                  0.050424\n",
       "Koolakamba                0.042471\n",
       "Rectilinear locomotion    0.042052\n",
       "User:Zach.ross/sandbox    0.041963"
      ]
     },
     "metadata": {},
     "output_type": "display_data"
    },
    {
     "name": "stdout",
     "output_type": "stream",
     "text": [
      "Make another search? [y/n] y\n",
      "Use TruncatedSVD with search? [y/n] y\n",
      "Search: thumbs hands intelligent\n"
     ]
    },
    {
     "data": {
      "text/html": [
       "<div>\n",
       "<table border=\"1\" class=\"dataframe\">\n",
       "  <thead>\n",
       "    <tr style=\"text-align: right;\">\n",
       "      <th></th>\n",
       "      <th>cosine_sim</th>\n",
       "    </tr>\n",
       "    <tr>\n",
       "      <th>title</th>\n",
       "      <th></th>\n",
       "    </tr>\n",
       "  </thead>\n",
       "  <tbody>\n",
       "    <tr>\n",
       "      <th>Hand (unit)</th>\n",
       "      <td>0.813766</td>\n",
       "    </tr>\n",
       "    <tr>\n",
       "      <th>Pony</th>\n",
       "      <td>0.720979</td>\n",
       "    </tr>\n",
       "    <tr>\n",
       "      <th>Glossary of equestrian terms</th>\n",
       "      <td>0.716803</td>\n",
       "    </tr>\n",
       "    <tr>\n",
       "      <th>Hippology</th>\n",
       "      <td>0.699486</td>\n",
       "    </tr>\n",
       "    <tr>\n",
       "      <th>Horse theft</th>\n",
       "      <td>0.693968</td>\n",
       "    </tr>\n",
       "  </tbody>\n",
       "</table>\n",
       "</div>"
      ],
      "text/plain": [
       "                              cosine_sim\n",
       "title                                   \n",
       "Hand (unit)                     0.813766\n",
       "Pony                            0.720979\n",
       "Glossary of equestrian terms    0.716803\n",
       "Hippology                       0.699486\n",
       "Horse theft                     0.693968"
      ]
     },
     "metadata": {},
     "output_type": "display_data"
    },
    {
     "name": "stdout",
     "output_type": "stream",
     "text": [
      "Make another search? [y/n] y\n",
      "Use TruncatedSVD with search? [y/n] n\n",
      "Search: thumbs hands intelligent\n"
     ]
    },
    {
     "data": {
      "text/html": [
       "<div>\n",
       "<table border=\"1\" class=\"dataframe\">\n",
       "  <thead>\n",
       "    <tr style=\"text-align: right;\">\n",
       "      <th></th>\n",
       "      <th>cosine_sim</th>\n",
       "    </tr>\n",
       "    <tr>\n",
       "      <th>title</th>\n",
       "      <th></th>\n",
       "    </tr>\n",
       "  </thead>\n",
       "  <tbody>\n",
       "    <tr>\n",
       "      <th>Hand (unit)</th>\n",
       "      <td>0.164814</td>\n",
       "    </tr>\n",
       "    <tr>\n",
       "      <th>Pony</th>\n",
       "      <td>0.067853</td>\n",
       "    </tr>\n",
       "    <tr>\n",
       "      <th>Noogenesis</th>\n",
       "      <td>0.052628</td>\n",
       "    </tr>\n",
       "    <tr>\n",
       "      <th>Denise L. Herzing</th>\n",
       "      <td>0.051113</td>\n",
       "    </tr>\n",
       "    <tr>\n",
       "      <th>Bear (comics)</th>\n",
       "      <td>0.038893</td>\n",
       "    </tr>\n",
       "  </tbody>\n",
       "</table>\n",
       "</div>"
      ],
      "text/plain": [
       "                   cosine_sim\n",
       "title                        \n",
       "Hand (unit)          0.164814\n",
       "Pony                 0.067853\n",
       "Noogenesis           0.052628\n",
       "Denise L. Herzing    0.051113\n",
       "Bear (comics)        0.038893"
      ]
     },
     "metadata": {},
     "output_type": "display_data"
    },
    {
     "name": "stdout",
     "output_type": "stream",
     "text": [
      "Make another search? [y/n] n\n"
     ]
    }
   ],
   "source": [
    "%run search.py"
   ]
  },
  {
   "cell_type": "markdown",
   "metadata": {},
   "source": [
    "### Predict category from page title\n",
    "\n",
    "The 5 items returned are the predictions for page Category based on a page title. If the page is not an actual title, then an error will be returned.\n",
    "\n",
    "I have included several searches for page titles of downloaded Wikipedia articles stored in mongoDB. I've also included the same search with both TruncatedSVD and without so that you can see the difference."
   ]
  },
  {
   "cell_type": "code",
   "execution_count": 8,
   "metadata": {
    "scrolled": false
   },
   "outputs": [
    {
     "name": "stdout",
     "output_type": "stream",
     "text": [
      "Pickle file to search: animals_download_merged_df.p\n",
      "Use TruncatedSVD to predict? [y/n] y\n",
      "Page Title: dinosaur\n"
     ]
    },
    {
     "data": {
      "text/html": [
       "<div>\n",
       "<table border=\"1\" class=\"dataframe\">\n",
       "  <thead>\n",
       "    <tr style=\"text-align: right;\">\n",
       "      <th></th>\n",
       "      <th>cosine_sim</th>\n",
       "    </tr>\n",
       "    <tr>\n",
       "      <th>category</th>\n",
       "      <th></th>\n",
       "    </tr>\n",
       "  </thead>\n",
       "  <tbody>\n",
       "    <tr>\n",
       "      <th>Dinosaurs</th>\n",
       "      <td>0.986166</td>\n",
       "    </tr>\n",
       "    <tr>\n",
       "      <th>birds</th>\n",
       "      <td>0.213328</td>\n",
       "    </tr>\n",
       "    <tr>\n",
       "      <th>extinct reptiles</th>\n",
       "      <td>0.173561</td>\n",
       "    </tr>\n",
       "    <tr>\n",
       "      <th>humans</th>\n",
       "      <td>0.139263</td>\n",
       "    </tr>\n",
       "    <tr>\n",
       "      <th>apes</th>\n",
       "      <td>0.077978</td>\n",
       "    </tr>\n",
       "  </tbody>\n",
       "</table>\n",
       "</div>"
      ],
      "text/plain": [
       "                  cosine_sim\n",
       "category                    \n",
       "Dinosaurs           0.986166\n",
       "birds               0.213328\n",
       "extinct reptiles    0.173561\n",
       "humans              0.139263\n",
       "apes                0.077978"
      ]
     },
     "metadata": {},
     "output_type": "display_data"
    },
    {
     "name": "stdout",
     "output_type": "stream",
     "text": [
      "Make another category prediction from page title? [y/n] y\n",
      "Use TruncatedSVD to predict? [y/n] n\n",
      "Page Title: dinosaur\n"
     ]
    },
    {
     "data": {
      "text/html": [
       "<div>\n",
       "<table border=\"1\" class=\"dataframe\">\n",
       "  <thead>\n",
       "    <tr style=\"text-align: right;\">\n",
       "      <th></th>\n",
       "      <th>cosine_sim</th>\n",
       "    </tr>\n",
       "    <tr>\n",
       "      <th>category</th>\n",
       "      <th></th>\n",
       "    </tr>\n",
       "  </thead>\n",
       "  <tbody>\n",
       "    <tr>\n",
       "      <th>Dinosaurs</th>\n",
       "      <td>0.887742</td>\n",
       "    </tr>\n",
       "    <tr>\n",
       "      <th>birds</th>\n",
       "      <td>0.192037</td>\n",
       "    </tr>\n",
       "    <tr>\n",
       "      <th>extinct reptiles</th>\n",
       "      <td>0.156239</td>\n",
       "    </tr>\n",
       "    <tr>\n",
       "      <th>humans</th>\n",
       "      <td>0.125364</td>\n",
       "    </tr>\n",
       "    <tr>\n",
       "      <th>apes</th>\n",
       "      <td>0.070195</td>\n",
       "    </tr>\n",
       "  </tbody>\n",
       "</table>\n",
       "</div>"
      ],
      "text/plain": [
       "                  cosine_sim\n",
       "category                    \n",
       "Dinosaurs           0.887742\n",
       "birds               0.192037\n",
       "extinct reptiles    0.156239\n",
       "humans              0.125364\n",
       "apes                0.070195"
      ]
     },
     "metadata": {},
     "output_type": "display_data"
    },
    {
     "name": "stdout",
     "output_type": "stream",
     "text": [
      "Make another category prediction from page title? [y/n] y\n",
      "Use TruncatedSVD to predict? [y/n] y\n",
      "Page Title: Glacier bear\n"
     ]
    },
    {
     "data": {
      "text/html": [
       "<div>\n",
       "<table border=\"1\" class=\"dataframe\">\n",
       "  <thead>\n",
       "    <tr style=\"text-align: right;\">\n",
       "      <th></th>\n",
       "      <th>cosine_sim</th>\n",
       "    </tr>\n",
       "    <tr>\n",
       "      <th>category</th>\n",
       "      <th></th>\n",
       "    </tr>\n",
       "  </thead>\n",
       "  <tbody>\n",
       "    <tr>\n",
       "      <th>bears</th>\n",
       "      <td>0.983100</td>\n",
       "    </tr>\n",
       "    <tr>\n",
       "      <th>Ursid hybrids</th>\n",
       "      <td>0.756867</td>\n",
       "    </tr>\n",
       "    <tr>\n",
       "      <th>Polar bears</th>\n",
       "      <td>0.522491</td>\n",
       "    </tr>\n",
       "    <tr>\n",
       "      <th>Bear conservation</th>\n",
       "      <td>0.516858</td>\n",
       "    </tr>\n",
       "    <tr>\n",
       "      <th>Grizzly bears</th>\n",
       "      <td>0.508749</td>\n",
       "    </tr>\n",
       "  </tbody>\n",
       "</table>\n",
       "</div>"
      ],
      "text/plain": [
       "                   cosine_sim\n",
       "category                     \n",
       "bears                0.983100\n",
       "Ursid hybrids        0.756867\n",
       "Polar bears          0.522491\n",
       "Bear conservation    0.516858\n",
       "Grizzly bears        0.508749"
      ]
     },
     "metadata": {},
     "output_type": "display_data"
    },
    {
     "name": "stdout",
     "output_type": "stream",
     "text": [
      "Make another category prediction from page title? [y/n] y\n",
      "Use TruncatedSVD to predict? [y/n] n\n",
      "Page Title: Felinology\n"
     ]
    },
    {
     "data": {
      "text/html": [
       "<div>\n",
       "<table border=\"1\" class=\"dataframe\">\n",
       "  <thead>\n",
       "    <tr style=\"text-align: right;\">\n",
       "      <th></th>\n",
       "      <th>cosine_sim</th>\n",
       "    </tr>\n",
       "    <tr>\n",
       "      <th>category</th>\n",
       "      <th></th>\n",
       "    </tr>\n",
       "  </thead>\n",
       "  <tbody>\n",
       "    <tr>\n",
       "      <th>cats</th>\n",
       "      <td>0.240667</td>\n",
       "    </tr>\n",
       "    <tr>\n",
       "      <th>humans</th>\n",
       "      <td>0.029758</td>\n",
       "    </tr>\n",
       "    <tr>\n",
       "      <th>dogs</th>\n",
       "      <td>0.025799</td>\n",
       "    </tr>\n",
       "    <tr>\n",
       "      <th>birds</th>\n",
       "      <td>0.017702</td>\n",
       "    </tr>\n",
       "    <tr>\n",
       "      <th>Giant pandas</th>\n",
       "      <td>0.015363</td>\n",
       "    </tr>\n",
       "  </tbody>\n",
       "</table>\n",
       "</div>"
      ],
      "text/plain": [
       "              cosine_sim\n",
       "category                \n",
       "cats            0.240667\n",
       "humans          0.029758\n",
       "dogs            0.025799\n",
       "birds           0.017702\n",
       "Giant pandas    0.015363"
      ]
     },
     "metadata": {},
     "output_type": "display_data"
    },
    {
     "name": "stdout",
     "output_type": "stream",
     "text": [
      "Make another category prediction from page title? [y/n] y\n",
      "Use TruncatedSVD to predict? [y/n] n\n",
      "Page Title: Operation Cat Drop\n"
     ]
    },
    {
     "data": {
      "text/html": [
       "<div>\n",
       "<table border=\"1\" class=\"dataframe\">\n",
       "  <thead>\n",
       "    <tr style=\"text-align: right;\">\n",
       "      <th></th>\n",
       "      <th>cosine_sim</th>\n",
       "    </tr>\n",
       "    <tr>\n",
       "      <th>category</th>\n",
       "      <th></th>\n",
       "    </tr>\n",
       "  </thead>\n",
       "  <tbody>\n",
       "    <tr>\n",
       "      <th>cats</th>\n",
       "      <td>0.416098</td>\n",
       "    </tr>\n",
       "    <tr>\n",
       "      <th>Fictional bears</th>\n",
       "      <td>0.036147</td>\n",
       "    </tr>\n",
       "    <tr>\n",
       "      <th>humans</th>\n",
       "      <td>0.033430</td>\n",
       "    </tr>\n",
       "    <tr>\n",
       "      <th>dogs</th>\n",
       "      <td>0.031603</td>\n",
       "    </tr>\n",
       "    <tr>\n",
       "      <th>Films about bears</th>\n",
       "      <td>0.030424</td>\n",
       "    </tr>\n",
       "  </tbody>\n",
       "</table>\n",
       "</div>"
      ],
      "text/plain": [
       "                   cosine_sim\n",
       "category                     \n",
       "cats                 0.416098\n",
       "Fictional bears      0.036147\n",
       "humans               0.033430\n",
       "dogs                 0.031603\n",
       "Films about bears    0.030424"
      ]
     },
     "metadata": {},
     "output_type": "display_data"
    },
    {
     "name": "stdout",
     "output_type": "stream",
     "text": [
      "Make another category prediction from page title? [y/n] n\n"
     ]
    }
   ],
   "source": [
    "%run predict.py"
   ]
  },
  {
   "cell_type": "code",
   "execution_count": 9,
   "metadata": {
    "scrolled": false
   },
   "outputs": [
    {
     "name": "stdout",
     "output_type": "stream",
     "text": [
      "Pickle file to search: merged_wiki_databases_df.p\n",
      "Use TruncatedSVD to predict? [y/n] y\n",
      "Page Title: machine learning\n"
     ]
    },
    {
     "data": {
      "text/html": [
       "<div>\n",
       "<table border=\"1\" class=\"dataframe\">\n",
       "  <thead>\n",
       "    <tr style=\"text-align: right;\">\n",
       "      <th></th>\n",
       "      <th>cosine_sim</th>\n",
       "    </tr>\n",
       "    <tr>\n",
       "      <th>category</th>\n",
       "      <th></th>\n",
       "    </tr>\n",
       "  </thead>\n",
       "  <tbody>\n",
       "    <tr>\n",
       "      <th>Deep learning</th>\n",
       "      <td>0.878219</td>\n",
       "    </tr>\n",
       "    <tr>\n",
       "      <th>Machine learning researchers</th>\n",
       "      <td>0.774625</td>\n",
       "    </tr>\n",
       "    <tr>\n",
       "      <th>Artificial neural networks</th>\n",
       "      <td>0.773371</td>\n",
       "    </tr>\n",
       "    <tr>\n",
       "      <th>Neural network software</th>\n",
       "      <td>0.762730</td>\n",
       "    </tr>\n",
       "    <tr>\n",
       "      <th>Structured prediction</th>\n",
       "      <td>0.732735</td>\n",
       "    </tr>\n",
       "  </tbody>\n",
       "</table>\n",
       "</div>"
      ],
      "text/plain": [
       "                              cosine_sim\n",
       "category                                \n",
       "Deep learning                   0.878219\n",
       "Machine learning researchers    0.774625\n",
       "Artificial neural networks      0.773371\n",
       "Neural network software         0.762730\n",
       "Structured prediction           0.732735"
      ]
     },
     "metadata": {},
     "output_type": "display_data"
    },
    {
     "name": "stdout",
     "output_type": "stream",
     "text": [
      "Make another category prediction from page title? [y/n] y\n",
      "Use TruncatedSVD to predict? [y/n] n\n",
      "Page Title: machine learning\n"
     ]
    },
    {
     "data": {
      "text/html": [
       "<div>\n",
       "<table border=\"1\" class=\"dataframe\">\n",
       "  <thead>\n",
       "    <tr style=\"text-align: right;\">\n",
       "      <th></th>\n",
       "      <th>cosine_sim</th>\n",
       "    </tr>\n",
       "    <tr>\n",
       "      <th>category</th>\n",
       "      <th></th>\n",
       "    </tr>\n",
       "  </thead>\n",
       "  <tbody>\n",
       "    <tr>\n",
       "      <th>Deep learning</th>\n",
       "      <td>0.510043</td>\n",
       "    </tr>\n",
       "    <tr>\n",
       "      <th>machine learning</th>\n",
       "      <td>0.452217</td>\n",
       "    </tr>\n",
       "    <tr>\n",
       "      <th>Machine learning researchers</th>\n",
       "      <td>0.433527</td>\n",
       "    </tr>\n",
       "    <tr>\n",
       "      <th>Data mining and machine learning software</th>\n",
       "      <td>0.414052</td>\n",
       "    </tr>\n",
       "    <tr>\n",
       "      <th>Structured prediction</th>\n",
       "      <td>0.365086</td>\n",
       "    </tr>\n",
       "  </tbody>\n",
       "</table>\n",
       "</div>"
      ],
      "text/plain": [
       "                                           cosine_sim\n",
       "category                                             \n",
       "Deep learning                                0.510043\n",
       "machine learning                             0.452217\n",
       "Machine learning researchers                 0.433527\n",
       "Data mining and machine learning software    0.414052\n",
       "Structured prediction                        0.365086"
      ]
     },
     "metadata": {},
     "output_type": "display_data"
    },
    {
     "name": "stdout",
     "output_type": "stream",
     "text": [
      "Make another category prediction from page title? [y/n] y\n",
      "Use TruncatedSVD to predict? [y/n] y\n",
      "Page Title: Gore Creek Trail\n"
     ]
    },
    {
     "data": {
      "text/html": [
       "<div>\n",
       "<table border=\"1\" class=\"dataframe\">\n",
       "  <thead>\n",
       "    <tr style=\"text-align: right;\">\n",
       "      <th></th>\n",
       "      <th>cosine_sim</th>\n",
       "    </tr>\n",
       "    <tr>\n",
       "      <th>category</th>\n",
       "      <th></th>\n",
       "    </tr>\n",
       "  </thead>\n",
       "  <tbody>\n",
       "    <tr>\n",
       "      <th>Eagles Nest Wilderness</th>\n",
       "      <td>0.991895</td>\n",
       "    </tr>\n",
       "    <tr>\n",
       "      <th>Holy Cross Wilderness</th>\n",
       "      <td>0.975648</td>\n",
       "    </tr>\n",
       "    <tr>\n",
       "      <th>Eagle Cap Wilderness</th>\n",
       "      <td>0.758705</td>\n",
       "    </tr>\n",
       "    <tr>\n",
       "      <th>Wilderness Areas of Alabama</th>\n",
       "      <td>0.681776</td>\n",
       "    </tr>\n",
       "    <tr>\n",
       "      <th>Wilderness Areas of New Hampshire</th>\n",
       "      <td>0.583855</td>\n",
       "    </tr>\n",
       "  </tbody>\n",
       "</table>\n",
       "</div>"
      ],
      "text/plain": [
       "                                   cosine_sim\n",
       "category                                     \n",
       "Eagles Nest Wilderness               0.991895\n",
       "Holy Cross Wilderness                0.975648\n",
       "Eagle Cap Wilderness                 0.758705\n",
       "Wilderness Areas of Alabama          0.681776\n",
       "Wilderness Areas of New Hampshire    0.583855"
      ]
     },
     "metadata": {},
     "output_type": "display_data"
    },
    {
     "name": "stdout",
     "output_type": "stream",
     "text": [
      "Make another category prediction from page title? [y/n] y\n",
      "Use TruncatedSVD to predict? [y/n] n\n",
      "Page Title: gore Creek Trail\n"
     ]
    },
    {
     "data": {
      "text/html": [
       "<div>\n",
       "<table border=\"1\" class=\"dataframe\">\n",
       "  <thead>\n",
       "    <tr style=\"text-align: right;\">\n",
       "      <th></th>\n",
       "      <th>cosine_sim</th>\n",
       "    </tr>\n",
       "    <tr>\n",
       "      <th>category</th>\n",
       "      <th></th>\n",
       "    </tr>\n",
       "  </thead>\n",
       "  <tbody>\n",
       "    <tr>\n",
       "      <th>Eagles Nest Wilderness</th>\n",
       "      <td>0.704743</td>\n",
       "    </tr>\n",
       "    <tr>\n",
       "      <th>Holy Cross Wilderness</th>\n",
       "      <td>0.399513</td>\n",
       "    </tr>\n",
       "    <tr>\n",
       "      <th>Wilderness Areas of Colorado</th>\n",
       "      <td>0.221985</td>\n",
       "    </tr>\n",
       "    <tr>\n",
       "      <th>Wilderness Areas of Virginia</th>\n",
       "      <td>0.211162</td>\n",
       "    </tr>\n",
       "    <tr>\n",
       "      <th>Eagle Cap Wilderness</th>\n",
       "      <td>0.203344</td>\n",
       "    </tr>\n",
       "  </tbody>\n",
       "</table>\n",
       "</div>"
      ],
      "text/plain": [
       "                              cosine_sim\n",
       "category                                \n",
       "Eagles Nest Wilderness          0.704743\n",
       "Holy Cross Wilderness           0.399513\n",
       "Wilderness Areas of Colorado    0.221985\n",
       "Wilderness Areas of Virginia    0.211162\n",
       "Eagle Cap Wilderness            0.203344"
      ]
     },
     "metadata": {},
     "output_type": "display_data"
    },
    {
     "name": "stdout",
     "output_type": "stream",
     "text": [
      "Make another category prediction from page title? [y/n] y\n",
      "Use TruncatedSVD to predict? [y/n] y\n",
      "Page Title: symbiosis\n"
     ]
    },
    {
     "data": {
      "text/html": [
       "<div>\n",
       "<table border=\"1\" class=\"dataframe\">\n",
       "  <thead>\n",
       "    <tr style=\"text-align: right;\">\n",
       "      <th></th>\n",
       "      <th>cosine_sim</th>\n",
       "    </tr>\n",
       "    <tr>\n",
       "      <th>category</th>\n",
       "      <th></th>\n",
       "    </tr>\n",
       "  </thead>\n",
       "  <tbody>\n",
       "    <tr>\n",
       "      <th>Symbiosis</th>\n",
       "      <td>0.977275</td>\n",
       "    </tr>\n",
       "    <tr>\n",
       "      <th>Mutualism (biology)</th>\n",
       "      <td>0.857523</td>\n",
       "    </tr>\n",
       "    <tr>\n",
       "      <th>Chemosynthetic symbiosis</th>\n",
       "      <td>0.769406</td>\n",
       "    </tr>\n",
       "    <tr>\n",
       "      <th>Superorganisms</th>\n",
       "      <td>0.751629</td>\n",
       "    </tr>\n",
       "    <tr>\n",
       "      <th>Aposematic animals</th>\n",
       "      <td>0.687506</td>\n",
       "    </tr>\n",
       "  </tbody>\n",
       "</table>\n",
       "</div>"
      ],
      "text/plain": [
       "                          cosine_sim\n",
       "category                            \n",
       "Symbiosis                   0.977275\n",
       "Mutualism (biology)         0.857523\n",
       "Chemosynthetic symbiosis    0.769406\n",
       "Superorganisms              0.751629\n",
       "Aposematic animals          0.687506"
      ]
     },
     "metadata": {},
     "output_type": "display_data"
    },
    {
     "name": "stdout",
     "output_type": "stream",
     "text": [
      "Make another category prediction from page title? [y/n] y\n",
      "Use TruncatedSVD to predict? [y/n] n\n",
      "Page Title: symbiosis\n"
     ]
    },
    {
     "data": {
      "text/html": [
       "<div>\n",
       "<table border=\"1\" class=\"dataframe\">\n",
       "  <thead>\n",
       "    <tr style=\"text-align: right;\">\n",
       "      <th></th>\n",
       "      <th>cosine_sim</th>\n",
       "    </tr>\n",
       "    <tr>\n",
       "      <th>category</th>\n",
       "      <th></th>\n",
       "    </tr>\n",
       "  </thead>\n",
       "  <tbody>\n",
       "    <tr>\n",
       "      <th>Symbiosis</th>\n",
       "      <td>0.470441</td>\n",
       "    </tr>\n",
       "    <tr>\n",
       "      <th>Chemosynthetic symbiosis</th>\n",
       "      <td>0.228644</td>\n",
       "    </tr>\n",
       "    <tr>\n",
       "      <th>Mutualism (biology)</th>\n",
       "      <td>0.224945</td>\n",
       "    </tr>\n",
       "    <tr>\n",
       "      <th>Parasitism</th>\n",
       "      <td>0.188803</td>\n",
       "    </tr>\n",
       "    <tr>\n",
       "      <th>Ecosystems</th>\n",
       "      <td>0.168202</td>\n",
       "    </tr>\n",
       "  </tbody>\n",
       "</table>\n",
       "</div>"
      ],
      "text/plain": [
       "                          cosine_sim\n",
       "category                            \n",
       "Symbiosis                   0.470441\n",
       "Chemosynthetic symbiosis    0.228644\n",
       "Mutualism (biology)         0.224945\n",
       "Parasitism                  0.188803\n",
       "Ecosystems                  0.168202"
      ]
     },
     "metadata": {},
     "output_type": "display_data"
    },
    {
     "name": "stdout",
     "output_type": "stream",
     "text": [
      "Make another category prediction from page title? [y/n] y\n",
      "Use TruncatedSVD to predict? [y/n] y\n",
      "Page Title: Scraper bike\n"
     ]
    },
    {
     "data": {
      "text/html": [
       "<div>\n",
       "<table border=\"1\" class=\"dataframe\">\n",
       "  <thead>\n",
       "    <tr style=\"text-align: right;\">\n",
       "      <th></th>\n",
       "      <th>cosine_sim</th>\n",
       "    </tr>\n",
       "    <tr>\n",
       "      <th>category</th>\n",
       "      <th></th>\n",
       "    </tr>\n",
       "  </thead>\n",
       "  <tbody>\n",
       "    <tr>\n",
       "      <th>Bicycle sharing</th>\n",
       "      <td>0.960213</td>\n",
       "    </tr>\n",
       "    <tr>\n",
       "      <th>Specialized Bicycle Components</th>\n",
       "      <td>0.925975</td>\n",
       "    </tr>\n",
       "    <tr>\n",
       "      <th>Bicycle sharing companies</th>\n",
       "      <td>0.910532</td>\n",
       "    </tr>\n",
       "    <tr>\n",
       "      <th>Cycle manufacturers of Belgium</th>\n",
       "      <td>0.848396</td>\n",
       "    </tr>\n",
       "    <tr>\n",
       "      <th>Mountain bike manufacturers</th>\n",
       "      <td>0.831213</td>\n",
       "    </tr>\n",
       "  </tbody>\n",
       "</table>\n",
       "</div>"
      ],
      "text/plain": [
       "                                cosine_sim\n",
       "category                                  \n",
       "Bicycle sharing                   0.960213\n",
       "Specialized Bicycle Components    0.925975\n",
       "Bicycle sharing companies         0.910532\n",
       "Cycle manufacturers of Belgium    0.848396\n",
       "Mountain bike manufacturers       0.831213"
      ]
     },
     "metadata": {},
     "output_type": "display_data"
    },
    {
     "name": "stdout",
     "output_type": "stream",
     "text": [
      "Make another category prediction from page title? [y/n] y\n",
      "Use TruncatedSVD to predict? [y/n] n\n",
      "Page Title: Tom Brown Jr.\n"
     ]
    },
    {
     "data": {
      "text/html": [
       "<div>\n",
       "<table border=\"1\" class=\"dataframe\">\n",
       "  <thead>\n",
       "    <tr style=\"text-align: right;\">\n",
       "      <th></th>\n",
       "      <th>cosine_sim</th>\n",
       "    </tr>\n",
       "    <tr>\n",
       "      <th>category</th>\n",
       "      <th></th>\n",
       "    </tr>\n",
       "  </thead>\n",
       "  <tbody>\n",
       "    <tr>\n",
       "      <th>Franklin Dam</th>\n",
       "      <td>0.232312</td>\n",
       "    </tr>\n",
       "    <tr>\n",
       "      <th>wilderness</th>\n",
       "      <td>0.183369</td>\n",
       "    </tr>\n",
       "    <tr>\n",
       "      <th>IUCN Category Ib</th>\n",
       "      <td>0.112497</td>\n",
       "    </tr>\n",
       "    <tr>\n",
       "      <th>Astrobiologists</th>\n",
       "      <td>0.104187</td>\n",
       "    </tr>\n",
       "    <tr>\n",
       "      <th>Wilderness Areas of the United States</th>\n",
       "      <td>0.103926</td>\n",
       "    </tr>\n",
       "  </tbody>\n",
       "</table>\n",
       "</div>"
      ],
      "text/plain": [
       "                                       cosine_sim\n",
       "category                                         \n",
       "Franklin Dam                             0.232312\n",
       "wilderness                               0.183369\n",
       "IUCN Category Ib                         0.112497\n",
       "Astrobiologists                          0.104187\n",
       "Wilderness Areas of the United States    0.103926"
      ]
     },
     "metadata": {},
     "output_type": "display_data"
    },
    {
     "name": "stdout",
     "output_type": "stream",
     "text": [
      "Make another category prediction from page title? [y/n] y\n",
      "Use TruncatedSVD to predict? [y/n] y\n",
      "Page Title: Tom Brown Jr.\n"
     ]
    },
    {
     "data": {
      "text/html": [
       "<div>\n",
       "<table border=\"1\" class=\"dataframe\">\n",
       "  <thead>\n",
       "    <tr style=\"text-align: right;\">\n",
       "      <th></th>\n",
       "      <th>cosine_sim</th>\n",
       "    </tr>\n",
       "    <tr>\n",
       "      <th>category</th>\n",
       "      <th></th>\n",
       "    </tr>\n",
       "  </thead>\n",
       "  <tbody>\n",
       "    <tr>\n",
       "      <th>wilderness</th>\n",
       "      <td>0.724330</td>\n",
       "    </tr>\n",
       "    <tr>\n",
       "      <th>Franklin Dam</th>\n",
       "      <td>0.637318</td>\n",
       "    </tr>\n",
       "    <tr>\n",
       "      <th>Wilderness medicine</th>\n",
       "      <td>0.603228</td>\n",
       "    </tr>\n",
       "    <tr>\n",
       "      <th>Wilderness Areas of the United States</th>\n",
       "      <td>0.585490</td>\n",
       "    </tr>\n",
       "    <tr>\n",
       "      <th>Wilderness areas</th>\n",
       "      <td>0.582430</td>\n",
       "    </tr>\n",
       "  </tbody>\n",
       "</table>\n",
       "</div>"
      ],
      "text/plain": [
       "                                       cosine_sim\n",
       "category                                         \n",
       "wilderness                               0.724330\n",
       "Franklin Dam                             0.637318\n",
       "Wilderness medicine                      0.603228\n",
       "Wilderness Areas of the United States    0.585490\n",
       "Wilderness areas                         0.582430"
      ]
     },
     "metadata": {},
     "output_type": "display_data"
    },
    {
     "name": "stdout",
     "output_type": "stream",
     "text": [
      "Make another category prediction from page title? [y/n] n\n"
     ]
    }
   ],
   "source": [
    "%run predict.py"
   ]
  }
 ],
 "metadata": {
  "kernelspec": {
   "display_name": "Python 3",
   "language": "python",
   "name": "python3"
  },
  "language_info": {
   "codemirror_mode": {
    "name": "ipython",
    "version": 3
   },
   "file_extension": ".py",
   "mimetype": "text/x-python",
   "name": "python",
   "nbconvert_exporter": "python",
   "pygments_lexer": "ipython3",
   "version": "3.6.2"
  }
 },
 "nbformat": 4,
 "nbformat_minor": 2
}
