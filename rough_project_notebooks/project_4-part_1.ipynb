{
 "cells": [
  {
   "cell_type": "markdown",
   "metadata": {},
   "source": [
    "# PROJECT 4: Semantic Search\n",
    "\n",
    "## The Task\n",
    "The objective of this assignment is to engineer a novel wikipedia search engine using what you've learned about data collection, infrastructure, and natural language processing.\n",
    "\n",
    "The task has two **required sections:**\n",
    "- Data collection\n",
    "- Search algorithm development\n",
    "\n",
    "And one **optional section:** \n",
    "  - Predictive modeling\n",
    "\n",
    "![](http://interactive.blockdiag.com/image?compression=deflate&encoding=base64&src=eJxdjrsOwjAMRXe-wlsmRhaQkDoiMSDxBW5slahtHDmGCiH-nfQxtKy-59zruhPfUsAGPjsA56XvMdIRSIbYCZKD_RncENqQuGBQ3S7TidCwxsynjZUZ1T8m4HqvJlXZnhrBJMHBbWlTDHEeSFravYUXQy_E3TKrwbioMKb5z16UmRxfXZurVY_GjegbhqJIjaXm-wNmzE4W)\n",
    "\n",
    "### Part 1 -- Collection (required)\n",
    "\n",
    "We want you to query the wikipedia API and **collect all of the articles** under the following wikipedia categories:\n",
    "\n",
    "* [Machine Learning](https://en.wikipedia.org/wiki/Category:Machine_learning)\n",
    "* [Business Software](https://en.wikipedia.org/wiki/Category:Business_software)\n",
    "\n",
    "The raw page text and its category information should be written to a collection on a Mongo server running on a dedicated AWS instance.\n",
    "\n",
    "We want your code to be modular enough that any valid category from Wikipedia can be queried by your code. You are encouraged to exploit this modularity to pull additional wikipedia categories beyond ML and Business Software. As always, the more data the better. \n",
    "\n",
    "**Note:** Both \"Machine Learning\" and \"Business Software\" contain a heirarchy of nested sub-categories. Make sure that you pull every single page within each parent category, not just those directly beneath them. Take time to explore wikipedia's organization structure. It is up to you if you want to model this heirarchy anywhere within Mongo, otherwise flatten it by only recording the parent category associated with each page.\n",
    "\n",
    "**optional**  \n",
    "Make it so that your code can be run via a python script e.g.\n",
    "\n",
    "```bash\n",
    "$ docker run --rm -v $(pwd):/home/jovyan jupyter/scipy-notebook python download.py #SOME_CATEGORY#\n",
    "```\n",
    "This docker command starts a disposable scipy-notebook container for one-time use to run your script, `download.py`. Where `#SOME_CATEGORY#` is the wikipedia category to be downloaded. Read about passing arguments to python scripts here: https://docs.python.org/3/library/sys.html. \n",
    "\n",
    "**optional**  \n",
    "Make it so that your code can query nested sub-categories e.g.\n",
    "\n",
    "```bash\n",
    "$ docker run --rm -v $(pwd):/home/jovyan jupyter/scipy-notebook python download.py #SOME_CATEGORY# #NESTING_LEVEL#\n",
    "```\n",
    "\n",
    "### Part 2 -- Search (required)\n",
    "\n",
    "Use Latent Semantic Analysis to search your pages. Given a search query, find the top 5 related articles to the search query. SVD and cosine similarity are a good place to start. \n",
    "\n",
    "**optional**  \n",
    "Make it so that your code can be run via a python script e.g.\n",
    "\n",
    "```bash\n",
    "$ docker run --rm -v $(pwd):/home/jovyan jupyter/scipy-notebook python search.py #SOME_TERM#\n",
    "```\n",
    "\n",
    "### Part 3 -- Predictive Model (optional)\n",
    "\n",
    "In this part, we want you to build a predictive model from the data you've just indexed. Specifically, when a new article from wikipedia comes along, we would like to be able to predict what category the article should fall into. We expect a training script of some sort that is runnable and will estimate a model. \n",
    "\n",
    "Make it so that your code can be run via a python script e.g.\n",
    "\n",
    "```bash\n",
    "$ docker run --rm -v $(pwd):/home/jovyan jupyter/scipy-notebook python train.py\n",
    "```\n",
    "\n",
    "Finally, you should be able to pass the url of a wikipedia page and it will generate a prediction for the best category for that page, along with a probability of that being the correct category. \n",
    "\n",
    "Make it so that your code can be run via a python script e.g.\n",
    "\n",
    "```bash\n",
    "$ docker run --rm -v $(pwd):/home/jovyan jupyter/scipy-notebook python predict.py #URL#\n",
    "```\n",
    "\n",
    "## Infrastructure\n",
    "\n",
    "We recommend that you run a MongDB server on a dedicated t2.micro instance. Feel free to run your Jupyter environment either on another instance or locally.\n",
    "\n",
    "\n"
   ]
  },
  {
   "cell_type": "code",
   "execution_count": 1,
   "metadata": {},
   "outputs": [],
   "source": [
    "import re\n",
    "import requests\n",
    "import pandas as pd\n",
    "import numpy as np\n",
    "import pymongo\n",
    "\n",
    "from string import punctuation\n",
    "from bs4 import BeautifulSoup\n",
    "\n",
    "client = pymongo.MongoClient('35.163.182.105', 27016)"
   ]
  },
  {
   "cell_type": "code",
   "execution_count": 20,
   "metadata": {},
   "outputs": [],
   "source": [
    "%run download.py"
   ]
  },
  {
   "cell_type": "code",
   "execution_count": 23,
   "metadata": {
    "scrolled": true
   },
   "outputs": [
    {
     "data": {
      "text/plain": [
       "['admin', 'business_software_wiki_db', 'local', 'test', 'wiki_content_db']"
      ]
     },
     "execution_count": 23,
     "metadata": {},
     "output_type": "execute_result"
    }
   ],
   "source": [
    "client.database_names()"
   ]
  },
  {
   "cell_type": "markdown",
   "metadata": {},
   "source": [
    "### Business Software Category"
   ]
  },
  {
   "cell_type": "code",
   "execution_count": 4,
   "metadata": {},
   "outputs": [],
   "source": [
    "busi_soft_mongo = store_wiki_contents_in_mongo('business_software_wiki_db')"
   ]
  },
  {
   "cell_type": "code",
   "execution_count": 5,
   "metadata": {},
   "outputs": [
    {
     "name": "stdout",
     "output_type": "stream",
     "text": [
      "Finished updating \"business_software_wiki_db\" with all page content from category \"ASP Accounting Systems\". | Parent Category: \"Microfinance software\"\n",
      "Finished updating \"business_software_wiki_db\" with all page content from category \"Abstract management software\". | Parent Category: \"Microfinance software\"\n",
      "Finished updating \"business_software_wiki_db\" with all page content from category \"Account aggregation providers\". | Parent Category: \"Microfinance software\"\n",
      "Finished updating \"business_software_wiki_db\" with all page content from category \"Accounting software\". | Parent Category: \"Microfinance software\"\n",
      "Finished updating \"business_software_wiki_db\" with all page content from category \"Accounting software for Linux\". | Parent Category: \"Microfinance software\"\n",
      "Finished updating \"business_software_wiki_db\" with all page content from category \"Administrative software\". | Parent Category: \"Microfinance software\"\n",
      "Finished updating \"business_software_wiki_db\" with all page content from category \"Amusement park simulation games\". | Parent Category: \"Microfinance software\"\n",
      "Finished updating \"business_software_wiki_db\" with all page content from category \"Apple II word processors\". | Parent Category: \"Microfinance software\"\n",
      "Finished updating \"business_software_wiki_db\" with all page content from category \"Association football management video games\". | Parent Category: \"Microfinance software\"\n",
      "Finished updating \"business_software_wiki_db\" with all page content from category \"Automatic Data Processing\". | Parent Category: \"Microfinance software\"\n",
      "Finished updating \"business_software_wiki_db\" with all page content from category \"Banking software companies\". | Parent Category: \"Microfinance software\"\n",
      "Finished updating \"business_software_wiki_db\" with all page content from category \"Behavioral experimentation software\". | Parent Category: \"Microfinance software\"\n",
      "Finished updating \"business_software_wiki_db\" with all page content from category \"Bioimaging software\". | Parent Category: \"Microfinance software\"\n",
      "Finished updating \"business_software_wiki_db\" with all page content from category \"Biomedical software\". | Parent Category: \"Microfinance software\"\n",
      "Finished updating \"business_software_wiki_db\" with all page content from category \"Blog software\". | Parent Category: \"Microfinance software\"\n",
      "Finished updating \"business_software_wiki_db\" with all page content from category \"Brain fitness video games\". | Parent Category: \"Microfinance software\"\n",
      "Finished updating \"business_software_wiki_db\" with all page content from category \"Bug and issue tracking software\". | Parent Category: \"Microfinance software\"\n",
      "Finished updating \"business_software_wiki_db\" with all page content from category \"Business simulation games\". | Parent Category: \"Microfinance software\"\n",
      "Finished updating \"business_software_wiki_db\" with all page content from category \"Business software companies\". | Parent Category: \"Microfinance software\"\n",
      "Finished updating \"business_software_wiki_db\" with all page content from category \"Business software for Linux\". | Parent Category: \"Microfinance software\"\n",
      "Finished updating \"business_software_wiki_db\" with all page content from category \"Business software for MacOS\". | Parent Category: \"Microfinance software\"\n",
      "Finished updating \"business_software_wiki_db\" with all page content from category \"Business software for Windows\". | Parent Category: \"Microfinance software\"\n",
      "Finished updating \"business_software_wiki_db\" with all page content from category \"Business software stubs\". | Parent Category: \"Microfinance software\"\n",
      "Finished updating \"business_software_wiki_db\" with all page content from category \"CRM software companies\". | Parent Category: \"Microfinance software\"\n",
      "Finished updating \"business_software_wiki_db\" with all page content from category \"CRM-software for MacOS\". | Parent Category: \"Microfinance software\"\n",
      "Finished updating \"business_software_wiki_db\" with all page content from category \"Calligra Suite\". | Parent Category: \"Microfinance software\"\n",
      "Finished updating \"business_software_wiki_db\" with all page content from category \"Classic Mac OS email clients\". | Parent Category: \"Microfinance software\"\n",
      "Finished updating \"business_software_wiki_db\" with all page content from category \"Classic Mac OS word processors\". | Parent Category: \"Microfinance software\"\n",
      "Finished updating \"business_software_wiki_db\" with all page content from category \"Collaborative real-time editors\". | Parent Category: \"Microfinance software\"\n",
      "Finished updating \"business_software_wiki_db\" with all page content from category \"Collaborative software\". | Parent Category: \"Microfinance software\"\n",
      "Finished updating \"business_software_wiki_db\" with all page content from category \"Collaborative software for Linux\". | Parent Category: \"Microfinance software\"\n",
      "Finished updating \"business_software_wiki_db\" with all page content from category \"Computer-aided audit tools\". | Parent Category: \"Microfinance software\"\n",
      "Finished updating \"business_software_wiki_db\" with all page content from category \"Concept- and mind-mapping software for Linux\". | Parent Category: \"Microfinance software\"\n",
      "Finished updating \"business_software_wiki_db\" with all page content from category \"Concept- and mind-mapping software programmed in Java\". | Parent Category: \"Microfinance software\"\n",
      "Finished updating \"business_software_wiki_db\" with all page content from category \"Content management system stubs\". | Parent Category: \"Microfinance software\"\n",
      "Finished updating \"business_software_wiki_db\" with all page content from category \"Content management systems\". | Parent Category: \"Microfinance software\"\n",
      "Finished updating \"business_software_wiki_db\" with all page content from category \"Cost analysis software\". | Parent Category: \"Microfinance software\"\n",
      "Finished updating \"business_software_wiki_db\" with all page content from category \"Customer communications management\". | Parent Category: \"Microfinance software\"\n",
      "Finished updating \"business_software_wiki_db\" with all page content from category \"Customer relationship management software\". | Parent Category: \"Microfinance software\"\n",
      "Finished updating \"business_software_wiki_db\" with all page content from category \"DICOM software\". | Parent Category: \"Microfinance software\"\n",
      "Finished updating \"business_software_wiki_db\" with all page content from category \"DOS word processors\". | Parent Category: \"Microfinance software\"\n",
      "Finished updating \"business_software_wiki_db\" with all page content from category \"DTP for MacOS\". | Parent Category: \"Microfinance software\"\n",
      "Finished updating \"business_software_wiki_db\" with all page content from category \"DTP for Windows\". | Parent Category: \"Microfinance software\"\n",
      "Finished updating \"business_software_wiki_db\" with all page content from category \"Dental practice management software\". | Parent Category: \"Microfinance software\"\n",
      "Finished updating \"business_software_wiki_db\" with all page content from category \"Dental software\". | Parent Category: \"Microfinance software\"\n",
      "Finished updating \"business_software_wiki_db\" with all page content from category \"Desktop publishing software\". | Parent Category: \"Microfinance software\"\n",
      "Finished updating \"business_software_wiki_db\" with all page content from category \"Desktop publishing software for Linux\". | Parent Category: \"Microfinance software\"\n",
      "Finished updating \"business_software_wiki_db\" with all page content from category \"Desktop search engines\". | Parent Category: \"Microfinance software\"\n",
      "Finished updating \"business_software_wiki_db\" with all page content from category \"Disability software\". | Parent Category: \"Microfinance software\"\n",
      "Finished updating \"business_software_wiki_db\" with all page content from category \"DocBook\". | Parent Category: \"Microfinance software\"\n",
      "Finished updating \"business_software_wiki_db\" with all page content from category \"Document management systems\". | Parent Category: \"Microfinance software\"\n",
      "Finished updating \"business_software_wiki_db\" with all page content from category \"ERP software\". | Parent Category: \"Microfinance software\"\n",
      "Finished updating \"business_software_wiki_db\" with all page content from category \"ERP software companies\". | Parent Category: \"Microfinance software\"\n"
     ]
    },
    {
     "name": "stdout",
     "output_type": "stream",
     "text": [
      "Finished updating \"business_software_wiki_db\" with all page content from category \"Electronic health record software\". | Parent Category: \"Microfinance software\"\n",
      "Finished updating \"business_software_wiki_db\" with all page content from category \"Electronic health records\". | Parent Category: \"Microfinance software\"\n",
      "Finished updating \"business_software_wiki_db\" with all page content from category \"Electronic trading platforms\". | Parent Category: \"Microfinance software\"\n",
      "Finished updating \"business_software_wiki_db\" with all page content from category \"Electronic trading systems\". | Parent Category: \"Microfinance software\"\n",
      "Finished updating \"business_software_wiki_db\" with all page content from category \"Email client software for Linux\". | Parent Category: \"Microfinance software\"\n",
      "Finished updating \"business_software_wiki_db\" with all page content from category \"Email clients\". | Parent Category: \"Microfinance software\"\n",
      "Finished updating \"business_software_wiki_db\" with all page content from category \"Email devices\". | Parent Category: \"Microfinance software\"\n",
      "Finished updating \"business_software_wiki_db\" with all page content from category \"Enterprise application integration\". | Parent Category: \"Microfinance software\"\n",
      "Finished updating \"business_software_wiki_db\" with all page content from category \"Enterprise resource planning software for Linux\". | Parent Category: \"Microfinance software\"\n",
      "Finished updating \"business_software_wiki_db\" with all page content from category \"Enterprise resource planning terminology\". | Parent Category: \"Microfinance software\"\n",
      "Finished updating \"business_software_wiki_db\" with all page content from category \"Enterprise software\". | Parent Category: \"Microfinance software\"\n",
      "Finished updating \"business_software_wiki_db\" with all page content from category \"Exergames\". | Parent Category: \"Microfinance software\"\n",
      "Finished updating \"business_software_wiki_db\" with all page content from category \"Financial markets software\". | Parent Category: \"Microfinance software\"\n",
      "Finished updating \"business_software_wiki_db\" with all page content from category \"Financial software\". | Parent Category: \"Microfinance software\"\n",
      "Finished updating \"business_software_wiki_db\" with all page content from category \"Financial software companies\". | Parent Category: \"Microfinance software\"\n",
      "Finished updating \"business_software_wiki_db\" with all page content from category \"Free DICOM software\". | Parent Category: \"Microfinance software\"\n",
      "Finished updating \"business_software_wiki_db\" with all page content from category \"Free ERP software\". | Parent Category: \"Microfinance software\"\n",
      "Finished updating \"business_software_wiki_db\" with all page content from category \"Free Internet forum software\". | Parent Category: \"Microfinance software\"\n",
      "Finished updating \"business_software_wiki_db\" with all page content from category \"Free Usenet clients\". | Parent Category: \"Microfinance software\"\n",
      "Finished updating \"business_software_wiki_db\" with all page content from category \"Free accounting software\". | Parent Category: \"Microfinance software\"\n",
      "Finished updating \"business_software_wiki_db\" with all page content from category \"Free bioimaging software\". | Parent Category: \"Microfinance software\"\n",
      "Finished updating \"business_software_wiki_db\" with all page content from category \"Free business software\". | Parent Category: \"Microfinance software\"\n",
      "Finished updating \"business_software_wiki_db\" with all page content from category \"Free content management systems\". | Parent Category: \"Microfinance software\"\n",
      "Finished updating \"business_software_wiki_db\" with all page content from category \"Free customer relationship management software\". | Parent Category: \"Microfinance software\"\n",
      "Finished updating \"business_software_wiki_db\" with all page content from category \"Free desktop publishing software\". | Parent Category: \"Microfinance software\"\n",
      "Finished updating \"business_software_wiki_db\" with all page content from category \"Free e-commerce software\". | Parent Category: \"Microfinance software\"\n",
      "Finished updating \"business_software_wiki_db\" with all page content from category \"Free email software\". | Parent Category: \"Microfinance software\"\n",
      "Finished updating \"business_software_wiki_db\" with all page content from category \"Free finance software\". | Parent Category: \"Microfinance software\"\n",
      "Finished updating \"business_software_wiki_db\" with all page content from category \"Free groupware\". | Parent Category: \"Microfinance software\"\n",
      "Finished updating \"business_software_wiki_db\" with all page content from category \"Free healthcare software\". | Parent Category: \"Microfinance software\"\n",
      "Finished updating \"business_software_wiki_db\" with all page content from category \"Free human resource management software\". | Parent Category: \"Microfinance software\"\n",
      "Finished updating \"business_software_wiki_db\" with all page content from category \"Free instant messaging clients\". | Parent Category: \"Microfinance software\"\n",
      "Finished updating \"business_software_wiki_db\" with all page content from category \"Free medical software\". | Parent Category: \"Microfinance software\"\n",
      "Finished updating \"business_software_wiki_db\" with all page content from category \"Free office software\". | Parent Category: \"Microfinance software\"\n",
      "Finished updating \"business_software_wiki_db\" with all page content from category \"Free presentation software\". | Parent Category: \"Microfinance software\"\n",
      "Finished updating \"business_software_wiki_db\" with all page content from category \"Free project management software\". | Parent Category: \"Microfinance software\"\n",
      "Finished updating \"business_software_wiki_db\" with all page content from category \"Free reporting software\". | Parent Category: \"Microfinance software\"\n",
      "Finished updating \"business_software_wiki_db\" with all page content from category \"Free search engine software\". | Parent Category: \"Microfinance software\"\n",
      "Finished updating \"business_software_wiki_db\" with all page content from category \"Free spreadsheet software\". | Parent Category: \"Microfinance software\"\n",
      "Finished updating \"business_software_wiki_db\" with all page content from category \"Free static website generators\". | Parent Category: \"Microfinance software\"\n",
      "Finished updating \"business_software_wiki_db\" with all page content from category \"Free task management software\". | Parent Category: \"Microfinance software\"\n",
      "Finished updating \"business_software_wiki_db\" with all page content from category \"Free wiki software\". | Parent Category: \"Microfinance software\"\n",
      "Finished updating \"business_software_wiki_db\" with all page content from category \"Free word processors\". | Parent Category: \"Microfinance software\"\n",
      "Finished updating \"business_software_wiki_db\" with all page content from category \"GitHub\". | Parent Category: \"Microfinance software\"\n",
      "Finished updating \"business_software_wiki_db\" with all page content from category \"Gmail\". | Parent Category: \"Microfinance software\"\n",
      "Finished updating \"business_software_wiki_db\" with all page content from category \"Groupware\". | Parent Category: \"Microfinance software\"\n",
      "Finished updating \"business_software_wiki_db\" with all page content from category \"HTML\". | Parent Category: \"Microfinance software\"\n",
      "Finished updating \"business_software_wiki_db\" with all page content from category \"Health software\". | Parent Category: \"Microfinance software\"\n",
      "Finished updating \"business_software_wiki_db\" with all page content from category \"Health video games\". | Parent Category: \"Microfinance software\"\n",
      "Finished updating \"business_software_wiki_db\" with all page content from category \"Healthcare software\". | Parent Category: \"Microfinance software\"\n",
      "Finished updating \"business_software_wiki_db\" with all page content from category \"Healthcare software for Linux\". | Parent Category: \"Microfinance software\"\n",
      "Finished updating \"business_software_wiki_db\" with all page content from category \"Healthcare software for MacOS\". | Parent Category: \"Microfinance software\"\n",
      "Finished updating \"business_software_wiki_db\" with all page content from category \"Healthcare software for Windows\". | Parent Category: \"Microfinance software\"\n",
      "Finished updating \"business_software_wiki_db\" with all page content from category \"Help desk software\". | Parent Category: \"Microfinance software\"\n"
     ]
    },
    {
     "name": "stdout",
     "output_type": "stream",
     "text": [
      "Finished updating \"business_software_wiki_db\" with all page content from category \"Human resource management software\". | Parent Category: \"Microfinance software\"\n",
      "Finished updating \"business_software_wiki_db\" with all page content from category \"IBM WebSphere\". | Parent Category: \"Microfinance software\"\n",
      "Finished updating \"business_software_wiki_db\" with all page content from category \"Industry-specific XML-based standards\". | Parent Category: \"Microfinance software\"\n",
      "Finished updating \"business_software_wiki_db\" with all page content from category \"Instant messaging clients\". | Parent Category: \"Microfinance software\"\n",
      "Finished updating \"business_software_wiki_db\" with all page content from category \"Internet search engines\". | Parent Category: \"Microfinance software\"\n",
      "Finished updating \"business_software_wiki_db\" with all page content from category \"Java enterprise platform\". | Parent Category: \"Microfinance software\"\n",
      "Finished updating \"business_software_wiki_db\" with all page content from category \"JavaServer Faces\". | Parent Category: \"Microfinance software\"\n",
      "Finished updating \"business_software_wiki_db\" with all page content from category \"Joomla extensions\". | Parent Category: \"Microfinance software\"\n",
      "Finished updating \"business_software_wiki_db\" with all page content from category \"LibreOffice\". | Parent Category: \"Microfinance software\"\n",
      "Finished updating \"business_software_wiki_db\" with all page content from category \"Linux word processors\". | Parent Category: \"Microfinance software\"\n",
      "Finished updating \"business_software_wiki_db\" with all page content from category \"Lotus SmartSuite\". | Parent Category: \"Microfinance software\"\n",
      "Finished updating \"business_software_wiki_db\" with all page content from category \"M.U.L.E.\". | Parent Category: \"Microfinance software\"\n",
      "Finished updating \"business_software_wiki_db\" with all page content from category \"MES software\". | Parent Category: \"Microfinance software\"\n",
      "Finished updating \"business_software_wiki_db\" with all page content from category \"MUMPS programming language\". | Parent Category: \"Microfinance software\"\n",
      "Finished updating \"business_software_wiki_db\" with all page content from category \"MUMPS programming language family\". | Parent Category: \"Microfinance software\"\n",
      "Finished updating \"business_software_wiki_db\" with all page content from category \"MacOS email clients\". | Parent Category: \"Microfinance software\"\n",
      "Finished updating \"business_software_wiki_db\" with all page content from category \"MacOS word processors\". | Parent Category: \"Microfinance software\"\n",
      "Finished updating \"business_software_wiki_db\" with all page content from category \"Manufacturing software\". | Parent Category: \"Microfinance software\"\n",
      "Finished updating \"business_software_wiki_db\" with all page content from category \"Marketing software\". | Parent Category: \"Microfinance software\"\n",
      "Finished updating \"business_software_wiki_db\" with all page content from category \"Medical expert systems\". | Parent Category: \"Microfinance software\"\n",
      "Finished updating \"business_software_wiki_db\" with all page content from category \"Medical simulation\". | Parent Category: \"Microfinance software\"\n",
      "Finished updating \"business_software_wiki_db\" with all page content from category \"Medical software\". | Parent Category: \"Microfinance software\"\n",
      "Finished updating \"business_software_wiki_db\" with all page content from category \"Medical video games\". | Parent Category: \"Microfinance software\"\n",
      "Finished updating \"business_software_wiki_db\" with all page content from category \"Message-oriented middleware\". | Parent Category: \"Microfinance software\"\n",
      "Finished updating \"business_software_wiki_db\" with all page content from category \"Microfinance software\". | Parent Category: \"Microfinance software\"\n",
      "Finished updating \"business_software_wiki_db\" with all page content from category \"Microsoft Dynamics\". | Parent Category: \"Microfinance software\"\n",
      "Finished updating \"business_software_wiki_db\" with all page content from category \"Microsoft Office\". | Parent Category: \"Microfinance software\"\n",
      "Finished updating \"business_software_wiki_db\" with all page content from category \"Microsoft Office-related software\". | Parent Category: \"Microfinance software\"\n",
      "Finished updating \"business_software_wiki_db\" with all page content from category \"Mind-mapping software\". | Parent Category: \"Microfinance software\"\n",
      "Finished updating \"business_software_wiki_db\" with all page content from category \"Mobile business software\". | Parent Category: \"Microfinance software\"\n",
      "Finished updating \"business_software_wiki_db\" with all page content from category \"Mobile sales enablement systems\". | Parent Category: \"Microfinance software\"\n",
      "Finished updating \"business_software_wiki_db\" with all page content from category \"Office Open XML\". | Parent Category: \"Microfinance software\"\n",
      "Finished updating \"business_software_wiki_db\" with all page content from category \"Office document file formats\". | Parent Category: \"Microfinance software\"\n",
      "Finished updating \"business_software_wiki_db\" with all page content from category \"Office software\". | Parent Category: \"Microfinance software\"\n",
      "Finished updating \"business_software_wiki_db\" with all page content from category \"Office suites\". | Parent Category: \"Microfinance software\"\n",
      "Finished updating \"business_software_wiki_db\" with all page content from category \"Office suites for Linux\". | Parent Category: \"Microfinance software\"\n",
      "Finished updating \"business_software_wiki_db\" with all page content from category \"Office suites for Windows\". | Parent Category: \"Microfinance software\"\n",
      "Finished updating \"business_software_wiki_db\" with all page content from category \"Office suites for macOS\". | Parent Category: \"Microfinance software\"\n",
      "Finished updating \"business_software_wiki_db\" with all page content from category \"Offline mail readers\". | Parent Category: \"Microfinance software\"\n",
      "Finished updating \"business_software_wiki_db\" with all page content from category \"Online office suites\". | Parent Category: \"Microfinance software\"\n",
      "Finished updating \"business_software_wiki_db\" with all page content from category \"Online spreadsheets\". | Parent Category: \"Microfinance software\"\n",
      "Finished updating \"business_software_wiki_db\" with all page content from category \"Online word processors\". | Parent Category: \"Microfinance software\"\n",
      "Finished updating \"business_software_wiki_db\" with all page content from category \"Open-source office suites\". | Parent Category: \"Microfinance software\"\n",
      "Finished updating \"business_software_wiki_db\" with all page content from category \"Open-source software hosting facilities\". | Parent Category: \"Microfinance software\"\n",
      "Finished updating \"business_software_wiki_db\" with all page content from category \"OpenDocument\". | Parent Category: \"Microfinance software\"\n",
      "Finished updating \"business_software_wiki_db\" with all page content from category \"OpenOffice\". | Parent Category: \"Microfinance software\"\n",
      "Finished updating \"business_software_wiki_db\" with all page content from category \"Personal wikis\". | Parent Category: \"Microfinance software\"\n",
      "Finished updating \"business_software_wiki_db\" with all page content from category \"Portal software\". | Parent Category: \"Microfinance software\"\n",
      "Finished updating \"business_software_wiki_db\" with all page content from category \"Presentation software\". | Parent Category: \"Microfinance software\"\n",
      "Finished updating \"business_software_wiki_db\" with all page content from category \"Presentation software for MacOS\". | Parent Category: \"Microfinance software\"\n",
      "Finished updating \"business_software_wiki_db\" with all page content from category \"Presentation software for Windows\". | Parent Category: \"Microfinance software\"\n",
      "Finished updating \"business_software_wiki_db\" with all page content from category \"Project hosting websites\". | Parent Category: \"Microfinance software\"\n",
      "Finished updating \"business_software_wiki_db\" with all page content from category \"Project management software\". | Parent Category: \"Microfinance software\"\n",
      "Finished updating \"business_software_wiki_db\" with all page content from category \"Proprietary wiki software\". | Parent Category: \"Microfinance software\"\n",
      "Finished updating \"business_software_wiki_db\" with all page content from category \"Public health and biosurveillance software\". | Parent Category: \"Microfinance software\"\n"
     ]
    },
    {
     "name": "stdout",
     "output_type": "stream",
     "text": [
      "Finished updating \"business_software_wiki_db\" with all page content from category \"Publication management software\". | Parent Category: \"Microfinance software\"\n",
      "Finished updating \"business_software_wiki_db\" with all page content from category \"Publishing software\". | Parent Category: \"Microfinance software\"\n",
      "Finished updating \"business_software_wiki_db\" with all page content from category \"Recommender systems\". | Parent Category: \"Microfinance software\"\n",
      "Finished updating \"business_software_wiki_db\" with all page content from category \"Records management\". | Parent Category: \"Microfinance software\"\n",
      "Finished updating \"business_software_wiki_db\" with all page content from category \"Recruitment software\". | Parent Category: \"Microfinance software\"\n",
      "Finished updating \"business_software_wiki_db\" with all page content from category \"Repetitive strain injury software\". | Parent Category: \"Microfinance software\"\n",
      "Finished updating \"business_software_wiki_db\" with all page content from category \"Reporting software\". | Parent Category: \"Microfinance software\"\n",
      "Finished updating \"business_software_wiki_db\" with all page content from category \"Risk management software\". | Parent Category: \"Microfinance software\"\n",
      "Finished updating \"business_software_wiki_db\" with all page content from category \"Roller coaster games and simulations\". | Parent Category: \"Microfinance software\"\n",
      "Finished updating \"business_software_wiki_db\" with all page content from category \"SAP NetWeaver\". | Parent Category: \"Microfinance software\"\n",
      "Finished updating \"business_software_wiki_db\" with all page content from category \"Sage Group\". | Parent Category: \"Microfinance software\"\n",
      "Finished updating \"business_software_wiki_db\" with all page content from category \"School-administration software\". | Parent Category: \"Microfinance software\"\n",
      "Finished updating \"business_software_wiki_db\" with all page content from category \"Search engine software\". | Parent Category: \"Microfinance software\"\n",
      "Finished updating \"business_software_wiki_db\" with all page content from category \"Semantic wiki software\". | Parent Category: \"Microfinance software\"\n",
      "Finished updating \"business_software_wiki_db\" with all page content from category \"Service-oriented architecture-related products\". | Parent Category: \"Microfinance software\"\n",
      "Finished updating \"business_software_wiki_db\" with all page content from category \"Society for Worldwide Interbank Financial Telecommunication\". | Parent Category: \"Microfinance software\"\n",
      "Finished updating \"business_software_wiki_db\" with all page content from category \"Space trading and combat simulators\". | Parent Category: \"Microfinance software\"\n",
      "Finished updating \"business_software_wiki_db\" with all page content from category \"Speech synthesis software\". | Parent Category: \"Microfinance software\"\n",
      "Finished updating \"business_software_wiki_db\" with all page content from category \"Sports Mogul\". | Parent Category: \"Microfinance software\"\n",
      "Finished updating \"business_software_wiki_db\" with all page content from category \"Sports management MMORPGs\". | Parent Category: \"Microfinance software\"\n",
      "Finished updating \"business_software_wiki_db\" with all page content from category \"Sports management video games\". | Parent Category: \"Microfinance software\"\n",
      "Finished updating \"business_software_wiki_db\" with all page content from category \"Spreadsheet file formats\". | Parent Category: \"Microfinance software\"\n",
      "Finished updating \"business_software_wiki_db\" with all page content from category \"Spreadsheet software\". | Parent Category: \"Microfinance software\"\n",
      "Finished updating \"business_software_wiki_db\" with all page content from category \"Spreadsheet software for Windows\". | Parent Category: \"Microfinance software\"\n",
      "Finished updating \"business_software_wiki_db\" with all page content from category \"Spreadsheet software for macOS\". | Parent Category: \"Microfinance software\"\n",
      "Finished updating \"business_software_wiki_db\" with all page content from category \"Standards for electronic health records\". | Parent Category: \"Microfinance software\"\n",
      "Finished updating \"business_software_wiki_db\" with all page content from category \"Static website generators\". | Parent Category: \"Microfinance software\"\n",
      "Finished updating \"business_software_wiki_db\" with all page content from category \"Supply chain software companies\". | Parent Category: \"Microfinance software\"\n",
      "Finished updating \"business_software_wiki_db\" with all page content from category \"TYPO3\". | Parent Category: \"Microfinance software\"\n",
      "Finished updating \"business_software_wiki_db\" with all page content from category \"Task management software\". | Parent Category: \"Microfinance software\"\n",
      "Finished updating \"business_software_wiki_db\" with all page content from category \"Tax software\". | Parent Category: \"Microfinance software\"\n",
      "Finished updating \"business_software_wiki_db\" with all page content from category \"TeX\". | Parent Category: \"Microfinance software\"\n",
      "Finished updating \"business_software_wiki_db\" with all page content from category \"Technical analysis software\". | Parent Category: \"Microfinance software\"\n",
      "Finished updating \"business_software_wiki_db\" with all page content from category \"Telecommunications Billing Systems\". | Parent Category: \"Microfinance software\"\n",
      "Finished updating \"business_software_wiki_db\" with all page content from category \"Time-tracking software\". | Parent Category: \"Microfinance software\"\n",
      "Finished updating \"business_software_wiki_db\" with all page content from category \"Trade simulation games\". | Parent Category: \"Microfinance software\"\n",
      "Finished updating \"business_software_wiki_db\" with all page content from category \"Transport Tycoon\". | Parent Category: \"Microfinance software\"\n",
      "Finished updating \"business_software_wiki_db\" with all page content from category \"Typing software\". | Parent Category: \"Microfinance software\"\n",
      "Finished updating \"business_software_wiki_db\" with all page content from category \"Typing video games\". | Parent Category: \"Microfinance software\"\n",
      "Finished updating \"business_software_wiki_db\" with all page content from category \"Usenet clients\". | Parent Category: \"Microfinance software\"\n",
      "Finished updating \"business_software_wiki_db\" with all page content from category \"Version control systems\". | Parent Category: \"Microfinance software\"\n",
      "Finished updating \"business_software_wiki_db\" with all page content from category \"Video hosting software\". | Parent Category: \"Microfinance software\"\n",
      "Finished updating \"business_software_wiki_db\" with all page content from category \"Webmail\". | Parent Category: \"Microfinance software\"\n",
      "Finished updating \"business_software_wiki_db\" with all page content from category \"Widget management systems\". | Parent Category: \"Microfinance software\"\n",
      "Finished updating \"business_software_wiki_db\" with all page content from category \"Wiki software\". | Parent Category: \"Microfinance software\"\n",
      "Finished updating \"business_software_wiki_db\" with all page content from category \"Windows email clients\". | Parent Category: \"Microfinance software\"\n",
      "Finished updating \"business_software_wiki_db\" with all page content from category \"Windows word processors\". | Parent Category: \"Microfinance software\"\n",
      "Finished updating \"business_software_wiki_db\" with all page content from category \"Word processor comparisons\". | Parent Category: \"Microfinance software\"\n",
      "Finished updating \"business_software_wiki_db\" with all page content from category \"Word processor stubs\". | Parent Category: \"Microfinance software\"\n",
      "Finished updating \"business_software_wiki_db\" with all page content from category \"Word processors\". | Parent Category: \"Microfinance software\"\n",
      "Finished updating \"business_software_wiki_db\" with all page content from category \"WordPress\". | Parent Category: \"Microfinance software\"\n",
      "Finished updating \"business_software_wiki_db\" with all page content from category \"Workflow software\". | Parent Category: \"Microfinance software\"\n",
      "Finished updating \"business_software_wiki_db\" with all page content from category \"Workflow technology\". | Parent Category: \"Microfinance software\"\n",
      "Finished updating \"business_software_wiki_db\" with all page content from category \"Zoo Tycoon\". | Parent Category: \"Microfinance software\"\n",
      "Finished updating \"business_software_wiki_db\" with all page content from category \"Zope\". | Parent Category: \"Microfinance software\"\n",
      "CPU times: user 3min 17s, sys: 22 s, total: 3min 39s\n",
      "Wall time: 1h 5min 41s\n"
     ]
    }
   ],
   "source": [
    "%time busi_soft_mongo.get_all_page_contents_from_category('Business software', overwrite=True, nesting_level=2)"
   ]
  },
  {
   "cell_type": "code",
   "execution_count": 6,
   "metadata": {
    "scrolled": true
   },
   "outputs": [
    {
     "data": {
      "text/plain": [
       "['admin',\n",
       " 'business_software_wiki_db',\n",
       " 'local',\n",
       " 'test',\n",
       " 'test_wiki_db',\n",
       " 'wiki_content_db']"
      ]
     },
     "execution_count": 6,
     "metadata": {},
     "output_type": "execute_result"
    }
   ],
   "source": [
    "client.database_names()"
   ]
  },
  {
   "cell_type": "code",
   "execution_count": 11,
   "metadata": {},
   "outputs": [],
   "source": [
    "cmdm = collection_merger_df_maker()"
   ]
  },
  {
   "cell_type": "code",
   "execution_count": 12,
   "metadata": {},
   "outputs": [],
   "source": [
    "bs_df = cmdm.merge_collections('business_software_wiki_db')"
   ]
  },
  {
   "cell_type": "code",
   "execution_count": 15,
   "metadata": {},
   "outputs": [
    {
     "data": {
      "text/html": [
       "<div>\n",
       "<table border=\"1\" class=\"dataframe\">\n",
       "  <thead>\n",
       "    <tr style=\"text-align: right;\">\n",
       "      <th></th>\n",
       "      <th>_id</th>\n",
       "      <th>category</th>\n",
       "      <th>content</th>\n",
       "      <th>page_id</th>\n",
       "      <th>parent_category</th>\n",
       "      <th>title</th>\n",
       "    </tr>\n",
       "  </thead>\n",
       "  <tbody>\n",
       "    <tr>\n",
       "      <th>0</th>\n",
       "      <td>5a1217ba830fdb7f6a5fe1ef</td>\n",
       "      <td>Zoo Tycoon</td>\n",
       "      <td>Zoo Tycoon 2 African Adventure is the second e...</td>\n",
       "      <td>6453530</td>\n",
       "      <td>Microfinance software</td>\n",
       "      <td>Zoo Tycoon 2: African Adventure</td>\n",
       "    </tr>\n",
       "    <tr>\n",
       "      <th>1</th>\n",
       "      <td>5a1217ba830fdb7f6a5fe1f0</td>\n",
       "      <td>Zoo Tycoon</td>\n",
       "      <td>Blue Fang Games often shortened to Blue Fang w...</td>\n",
       "      <td>9069467</td>\n",
       "      <td>Microfinance software</td>\n",
       "      <td>Blue Fang Games</td>\n",
       "    </tr>\n",
       "    <tr>\n",
       "      <th>2</th>\n",
       "      <td>5a1217bb830fdb7f6a5fe1f1</td>\n",
       "      <td>Zoo Tycoon</td>\n",
       "      <td>Zoo Tycoon 2 Dino Danger Pack is a bonus pack ...</td>\n",
       "      <td>6106017</td>\n",
       "      <td>Microfinance software</td>\n",
       "      <td>Zoo Tycoon 2: Dino Danger Pack</td>\n",
       "    </tr>\n",
       "    <tr>\n",
       "      <th>3</th>\n",
       "      <td>5a1217bb830fdb7f6a5fe1f2</td>\n",
       "      <td>Zoo Tycoon</td>\n",
       "      <td>Zoo Tycoon 2 Endangered Species is the first o...</td>\n",
       "      <td>6454658</td>\n",
       "      <td>Microfinance software</td>\n",
       "      <td>Zoo Tycoon 2: Endangered Species</td>\n",
       "    </tr>\n",
       "    <tr>\n",
       "      <th>4</th>\n",
       "      <td>5a1217bc830fdb7f6a5fe1f3</td>\n",
       "      <td>Zoo Tycoon</td>\n",
       "      <td>Zoo Tycoon 2 Extinct Animals is a video game e...</td>\n",
       "      <td>9000696</td>\n",
       "      <td>Microfinance software</td>\n",
       "      <td>Zoo Tycoon 2: Extinct Animals</td>\n",
       "    </tr>\n",
       "  </tbody>\n",
       "</table>\n",
       "</div>"
      ],
      "text/plain": [
       "                        _id    category  \\\n",
       "0  5a1217ba830fdb7f6a5fe1ef  Zoo Tycoon   \n",
       "1  5a1217ba830fdb7f6a5fe1f0  Zoo Tycoon   \n",
       "2  5a1217bb830fdb7f6a5fe1f1  Zoo Tycoon   \n",
       "3  5a1217bb830fdb7f6a5fe1f2  Zoo Tycoon   \n",
       "4  5a1217bc830fdb7f6a5fe1f3  Zoo Tycoon   \n",
       "\n",
       "                                             content  page_id  \\\n",
       "0  Zoo Tycoon 2 African Adventure is the second e...  6453530   \n",
       "1  Blue Fang Games often shortened to Blue Fang w...  9069467   \n",
       "2  Zoo Tycoon 2 Dino Danger Pack is a bonus pack ...  6106017   \n",
       "3  Zoo Tycoon 2 Endangered Species is the first o...  6454658   \n",
       "4  Zoo Tycoon 2 Extinct Animals is a video game e...  9000696   \n",
       "\n",
       "         parent_category                             title  \n",
       "0  Microfinance software   Zoo Tycoon 2: African Adventure  \n",
       "1  Microfinance software                   Blue Fang Games  \n",
       "2  Microfinance software    Zoo Tycoon 2: Dino Danger Pack  \n",
       "3  Microfinance software  Zoo Tycoon 2: Endangered Species  \n",
       "4  Microfinance software     Zoo Tycoon 2: Extinct Animals  "
      ]
     },
     "execution_count": 15,
     "metadata": {},
     "output_type": "execute_result"
    }
   ],
   "source": [
    "bs_df.head()"
   ]
  },
  {
   "cell_type": "code",
   "execution_count": 13,
   "metadata": {},
   "outputs": [
    {
     "name": "stdout",
     "output_type": "stream",
     "text": [
      "<class 'pandas.core.frame.DataFrame'>\n",
      "RangeIndex: 8569 entries, 0 to 8568\n",
      "Data columns (total 6 columns):\n",
      "_id                8569 non-null object\n",
      "category           8569 non-null object\n",
      "content            8569 non-null object\n",
      "page_id            8569 non-null int64\n",
      "parent_category    8569 non-null object\n",
      "title              8569 non-null object\n",
      "dtypes: int64(1), object(5)\n",
      "memory usage: 401.8+ KB\n"
     ]
    }
   ],
   "source": [
    "bs_df.info()"
   ]
  },
  {
   "cell_type": "code",
   "execution_count": 14,
   "metadata": {},
   "outputs": [
    {
     "data": {
      "text/plain": [
       "8569"
      ]
     },
     "execution_count": 14,
     "metadata": {},
     "output_type": "execute_result"
    }
   ],
   "source": [
    "lengths = []\n",
    "for x in client.business_software_wiki_db.collection_names():\n",
    "    lengths.append(len(cmdm.make_collection_df('business_software_wiki_db', x)))\n",
    "    \n",
    "sum(lengths)"
   ]
  },
  {
   "cell_type": "markdown",
   "metadata": {},
   "source": [
    "### Machine Learning Category"
   ]
  },
  {
   "cell_type": "code",
   "execution_count": 24,
   "metadata": {},
   "outputs": [
    {
     "name": "stdout",
     "output_type": "stream",
     "text": [
      "Finished updating \"machine_learning_wiki_db\" with all page content from category \"machine learning\". \n",
      "               Remain Categories: 0\n",
      "There are 48 subcategories that need to be added to machine_learning_wiki_db.\n",
      "Finished updating \"machine_learning_wiki_db\" with all page content from category \"Applied machine learning\". \n",
      "               Remain Categories: 47\n",
      "Finished updating \"machine_learning_wiki_db\" with all page content from category \"Artificial immune systems\". \n",
      "               Remain Categories: 46\n",
      "Finished updating \"machine_learning_wiki_db\" with all page content from category \"Artificial intelligence conferences\". \n",
      "               Remain Categories: 45\n",
      "Finished updating \"machine_learning_wiki_db\" with all page content from category \"Artificial neural networks\". \n",
      "               Remain Categories: 44\n",
      "Finished updating \"machine_learning_wiki_db\" with all page content from category \"Bayesian networks\". \n",
      "               Remain Categories: 43\n",
      "Finished updating \"machine_learning_wiki_db\" with all page content from category \"Causal inference\". \n",
      "               Remain Categories: 42\n",
      "Finished updating \"machine_learning_wiki_db\" with all page content from category \"Classification algorithms\". \n",
      "               Remain Categories: 41\n",
      "Finished updating \"machine_learning_wiki_db\" with all page content from category \"Cluster analysis\". \n",
      "               Remain Categories: 40\n",
      "Finished updating \"machine_learning_wiki_db\" with all page content from category \"Cluster analysis algorithms\". \n",
      "               Remain Categories: 39\n",
      "Finished updating \"machine_learning_wiki_db\" with all page content from category \"Clustering criteria\". \n",
      "               Remain Categories: 38\n",
      "Finished updating \"machine_learning_wiki_db\" with all page content from category \"Computational learning theory\". \n",
      "               Remain Categories: 37\n",
      "Finished updating \"machine_learning_wiki_db\" with all page content from category \"Data mining and machine learning software\". \n",
      "               Remain Categories: 36\n",
      "Finished updating \"machine_learning_wiki_db\" with all page content from category \"Datasets in computer vision\". \n",
      "               Remain Categories: 35\n",
      "Finished updating \"machine_learning_wiki_db\" with all page content from category \"Datasets in machine learning\". \n",
      "               Remain Categories: 34\n",
      "Finished updating \"machine_learning_wiki_db\" with all page content from category \"Decision trees\". \n",
      "               Remain Categories: 33\n",
      "Finished updating \"machine_learning_wiki_db\" with all page content from category \"Deep learning\". \n",
      "               Remain Categories: 32\n",
      "Finished updating \"machine_learning_wiki_db\" with all page content from category \"Dimension reduction\". \n",
      "               Remain Categories: 31\n",
      "Finished updating \"machine_learning_wiki_db\" with all page content from category \"Ensemble learning\". \n",
      "               Remain Categories: 30\n",
      "Finished updating \"machine_learning_wiki_db\" with all page content from category \"Evolutionary algorithms\". \n",
      "               Remain Categories: 29\n",
      "Finished updating \"machine_learning_wiki_db\" with all page content from category \"Factor analysis\". \n",
      "               Remain Categories: 28\n",
      "Finished updating \"machine_learning_wiki_db\" with all page content from category \"Gene expression programming\". \n",
      "               Remain Categories: 27\n",
      "Finished updating \"machine_learning_wiki_db\" with all page content from category \"Genetic algorithms\". \n",
      "               Remain Categories: 26\n",
      "Finished updating \"machine_learning_wiki_db\" with all page content from category \"Genetic programming\". \n",
      "               Remain Categories: 25\n",
      "Finished updating \"machine_learning_wiki_db\" with all page content from category \"Graphical models\". \n",
      "               Remain Categories: 24\n",
      "Finished updating \"machine_learning_wiki_db\" with all page content from category \"Hidden Markov models\". \n",
      "               Remain Categories: 23\n",
      "Finished updating \"machine_learning_wiki_db\" with all page content from category \"Inductive logic programming\". \n",
      "               Remain Categories: 22\n",
      "Finished updating \"machine_learning_wiki_db\" with all page content from category \"Kernel methods for machine learning\". \n",
      "               Remain Categories: 21\n",
      "Finished updating \"machine_learning_wiki_db\" with all page content from category \"Language modeling\". \n",
      "               Remain Categories: 20\n",
      "Finished updating \"machine_learning_wiki_db\" with all page content from category \"Latent variable models\". \n",
      "               Remain Categories: 19\n",
      "Finished updating \"machine_learning_wiki_db\" with all page content from category \"Learning in computer vision\". \n",
      "               Remain Categories: 18\n",
      "Finished updating \"machine_learning_wiki_db\" with all page content from category \"Log-linear models\". \n",
      "               Remain Categories: 17\n",
      "Finished updating \"machine_learning_wiki_db\" with all page content from category \"Loss functions\". \n",
      "               Remain Categories: 16\n",
      "Finished updating \"machine_learning_wiki_db\" with all page content from category \"Machine learning algorithms\". \n",
      "               Remain Categories: 15\n",
      "Finished updating \"machine_learning_wiki_db\" with all page content from category \"Machine learning portal\". \n",
      "               Remain Categories: 14\n",
      "Finished updating \"machine_learning_wiki_db\" with all page content from category \"Machine learning researchers\". \n",
      "               Remain Categories: 13\n",
      "Finished updating \"machine_learning_wiki_db\" with all page content from category \"Machine learning task\". \n",
      "               Remain Categories: 12\n",
      "Finished updating \"machine_learning_wiki_db\" with all page content from category \"Markov models\". \n",
      "               Remain Categories: 11\n",
      "Finished updating \"machine_learning_wiki_db\" with all page content from category \"Markov networks\". \n",
      "               Remain Categories: 10\n",
      "Finished updating \"machine_learning_wiki_db\" with all page content from category \"Nature-inspired metaheuristics\". \n",
      "               Remain Categories: 9\n",
      "Finished updating \"machine_learning_wiki_db\" with all page content from category \"Neural network software\". \n",
      "               Remain Categories: 8\n",
      "Finished updating \"machine_learning_wiki_db\" with all page content from category \"Semisupervised learning\". \n",
      "               Remain Categories: 7\n",
      "Finished updating \"machine_learning_wiki_db\" with all page content from category \"Social network analysis software\". \n",
      "               Remain Categories: 6\n",
      "Finished updating \"machine_learning_wiki_db\" with all page content from category \"Statistical natural language processing\". \n",
      "               Remain Categories: 5\n",
      "Finished updating \"machine_learning_wiki_db\" with all page content from category \"Structural equation models\". \n",
      "               Remain Categories: 4\n",
      "Finished updating \"machine_learning_wiki_db\" with all page content from category \"Structured prediction\". \n",
      "               Remain Categories: 3\n",
      "Finished updating \"machine_learning_wiki_db\" with all page content from category \"Supervised learning\". \n",
      "               Remain Categories: 2\n",
      "Finished updating \"machine_learning_wiki_db\" with all page content from category \"Support vector machines\". \n",
      "               Remain Categories: 1\n",
      "Finished updating \"machine_learning_wiki_db\" with all page content from category \"Unsupervised learning\". \n",
      "               Remain Categories: 0\n",
      "CPU times: user 1min 15s, sys: 3.96 s, total: 1min 19s\n",
      "Wall time: 11min 52s\n"
     ]
    }
   ],
   "source": [
    "ml_mongo = store_wiki_contents_in_mongo('machine_learning_wiki_db')\n",
    "%time ml_mongo.get_all_page_contents_from_category('machine learning', nesting_level=3)"
   ]
  },
  {
   "cell_type": "code",
   "execution_count": 291,
   "metadata": {
    "scrolled": true
   },
   "outputs": [
    {
     "data": {
      "text/plain": [
       "49"
      ]
     },
     "execution_count": 291,
     "metadata": {},
     "output_type": "execute_result"
    }
   ],
   "source": [
    "len(wiki_content_db.collection_names())"
   ]
  },
  {
   "cell_type": "code",
   "execution_count": null,
   "metadata": {},
   "outputs": [],
   "source": [
    "wiki_content_db.collection_names()"
   ]
  },
  {
   "cell_type": "code",
   "execution_count": null,
   "metadata": {},
   "outputs": [],
   "source": []
  },
  {
   "cell_type": "code",
   "execution_count": 281,
   "metadata": {},
   "outputs": [
    {
     "data": {
      "text/plain": [
       "['admin', 'local', 'test', 'wiki_content_db']"
      ]
     },
     "execution_count": 281,
     "metadata": {},
     "output_type": "execute_result"
    }
   ],
   "source": [
    "client.database_names()"
   ]
  },
  {
   "cell_type": "code",
   "execution_count": 315,
   "metadata": {},
   "outputs": [
    {
     "name": "stdout",
     "output_type": "stream",
     "text": [
      "Artificial_neural_networks                 2\n",
      "Classification_algorithms                  1\n",
      "Cluster_analysis                           1\n",
      "Data_mining_and_machine_learning_software  1\n",
      "Decision_trees                             1\n",
      "Dimension_reduction                        1\n",
      "Evolutionary_algorithms                    4\n",
      "Genetic_algorithms                         6\n",
      "Graphical_models                           2\n",
      "Kernel_methods_for_machine_learning        1\n",
      "Latent_variable_models                     2\n",
      "Markov_models                              2\n",
      "Statistical_natural_language_processing    1\n",
      "Structured_prediction                      1\n",
      "machine_learning                           17\n"
     ]
    }
   ],
   "source": [
    "for x in sorted(wiki_content_db.collection_names()):\n",
    "    if len(list(wiki_content_db[x].find({'content':''}))) >= 1:\n",
    "        print('{:42}'.format(x[:-24]), len(list(wiki_content_db[x].find({'content':''}))))"
   ]
  },
  {
   "cell_type": "code",
   "execution_count": null,
   "metadata": {},
   "outputs": [],
   "source": [
    "### saving this for later, code is to rename a db\n",
    "\n",
    "# client.admin.command('copydb',\n",
    "#                      fromdb='source_db_name',\n",
    "#                      todb='target_db_name')\n",
    "\n",
    "# client.drop_database('<DBNAME>')\n"
   ]
  }
 ],
 "metadata": {
  "kernelspec": {
   "display_name": "Python 3",
   "language": "python",
   "name": "python3"
  },
  "language_info": {
   "codemirror_mode": {
    "name": "ipython",
    "version": 3
   },
   "file_extension": ".py",
   "mimetype": "text/x-python",
   "name": "python",
   "nbconvert_exporter": "python",
   "pygments_lexer": "ipython3",
   "version": "3.6.2"
  }
 },
 "nbformat": 4,
 "nbformat_minor": 2
}
